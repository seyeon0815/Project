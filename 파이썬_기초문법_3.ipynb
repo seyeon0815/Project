{
  "nbformat": 4,
  "nbformat_minor": 0,
  "metadata": {
    "colab": {
      "name": "파이썬_기초문법_3.ipynb",
      "provenance": [],
      "authorship_tag": "ABX9TyNUZ7mh6BvRAzEg36NPmGRp",
      "include_colab_link": true
    },
    "kernelspec": {
      "name": "python3",
      "display_name": "Python 3"
    },
    "language_info": {
      "name": "python"
    }
  },
  "cells": [
    {
      "cell_type": "markdown",
      "metadata": {
        "id": "view-in-github",
        "colab_type": "text"
      },
      "source": [
        "<a href=\"https://colab.research.google.com/github/seyeon0815/Project/blob/main/%ED%8C%8C%EC%9D%B4%EC%8D%AC_%EA%B8%B0%EC%B4%88%EB%AC%B8%EB%B2%95_3.ipynb\" target=\"_parent\"><img src=\"https://colab.research.google.com/assets/colab-badge.svg\" alt=\"Open In Colab\"/></a>"
      ]
    },
    {
      "cell_type": "markdown",
      "source": [
        "# 클래스를 만드는 목적!\n",
        "- 코드의 간결화!\n",
        "+ 코드를 재사용!\n",
        "- 여러 라이브러리 사용 --> 클래스로 구현이 됨\n",
        "+ list 클래스, str 클래스\n",
        "+ 객체로 씀\n",
        "+ 변수명으로 정의\n",
        "- 여러 클래스들이 모여서 하나의 라이브러리가 됨.\n",
        "+ 장고/ 웹개발 / 머신러닝 / 시각화 / 데이터 전처리"
      ],
      "metadata": {
        "id": "Tn5iW6XB-gJD"
      }
    },
    {
      "cell_type": "code",
      "source": [
        "class Person:\n",
        "\n",
        "  # class attribute\n",
        "  country = \"korean\"\n",
        "\n",
        "  # instance attribute\n",
        "  def __init__(self, name, age): #def __init__(self 는 default,class 만들 때 기본적 구성요소\n",
        "    self.name = name\n",
        "    self.age = age\n",
        "\n",
        "if __name__ == \"__main__\":\n",
        "  kim = Person(\"Kim\", 100)\n",
        "  lee = Person(\"lee\", 100)\n",
        "\n",
        "  # access class attribute\n",
        "  print(\"kim은 {}\".format(kim.__class__.country))\n",
        "  print(\"lee는 {}\".format(lee.__class__.country))"
      ],
      "metadata": {
        "colab": {
          "base_uri": "https://localhost:8080/"
        },
        "id": "-vV6JNlN_fNG",
        "outputId": "f595f9fe-f5a2-4cf8-caa0-287fc77db425"
      },
      "execution_count": null,
      "outputs": [
        {
          "output_type": "stream",
          "name": "stdout",
          "text": [
            "kim은 korean\n",
            "lee는 korean\n"
          ]
        }
      ]
    },
    {
      "cell_type": "code",
      "source": [
        ""
      ],
      "metadata": {
        "id": "-u5bue1WBea6"
      },
      "execution_count": null,
      "outputs": []
    },
    {
      "cell_type": "markdown",
      "source": [
        "## instance 메서드 생성\n",
        "- list.append(), list.extend()"
      ],
      "metadata": {
        "id": "E5J58uChBf_P"
      }
    },
    {
      "cell_type": "code",
      "source": [
        "class Person:\n",
        "\n",
        "  # class attribute\n",
        "  country = \"korean\"\n",
        "\n",
        "  # instance attribute\n",
        "  def __init__(self, name, age):\n",
        "    self.name = name\n",
        "    self.age = age\n",
        "\n",
        "  # instance method 정의\n",
        "  def sining(self, songtitle, sales):\n",
        "    return \"{} 판매량 {} 된 {}을 노래합니다.\".format(self.name, sales, songtitle)\n",
        "\n",
        "if __name__ == \"__main__\":\n",
        "  kim = Person(\"Kim\", 100)\n",
        "  lee = Person(\"lee\", 100)\n",
        "\n",
        "  # access class attribute\n",
        "  print(\"kim은 {}\".format(kim.__class__.country))\n",
        "  print(\"lee는 {}\".format(lee.__class__.country))\n",
        "\n",
        "  # call instance method\n",
        "  print(kim.sining(\"A\", 10))\n",
        "  print(lee.sining(\"B\", 200))\n"
      ],
      "metadata": {
        "colab": {
          "base_uri": "https://localhost:8080/"
        },
        "id": "i1DPQOUiBzmD",
        "outputId": "9bec930f-e618-4ad1-db49-8c59ff2c8eef"
      },
      "execution_count": null,
      "outputs": [
        {
          "output_type": "stream",
          "name": "stdout",
          "text": [
            "kim은 korean\n",
            "lee는 korean\n",
            "Kim 판매량 10 된 A을 노래합니다.\n",
            "lee 판매량 200 된 B을 노래합니다.\n"
          ]
        }
      ]
    },
    {
      "cell_type": "code",
      "source": [
        "name = \"lee\"\n",
        "songtitle = \"B\"\n",
        "print(\"{} {}을 노래합니다\".format(name, songtitle))\n",
        "\n",
        "name = \"Kim\"\n",
        "songtitle = \"A\"\n",
        "print(\"{} {}을 노래합니다\".format(name, songtitle))"
      ],
      "metadata": {
        "colab": {
          "base_uri": "https://localhost:8080/"
        },
        "id": "J2GuM3shC9XJ",
        "outputId": "eebafb39-732e-490d-fd37-253f9fe0b902"
      },
      "execution_count": null,
      "outputs": [
        {
          "output_type": "stream",
          "name": "stdout",
          "text": [
            "lee B을 노래합니다\n",
            "Kim A을 노래합니다\n"
          ]
        }
      ]
    },
    {
      "cell_type": "markdown",
      "source": [
        "## 클래스 상속\n",
        "- 부모님 유산,,,\n",
        "+ 부모님 집(냉장고, 티비, 세탁기 등) #부모 클래스 instance method, attribute\n",
        "+ 사용은 같이 함\n",
        "- 돈을 모아 개인 노트북 구매( 내 방에 비치) #자식 클래스 instance method, attribute 추가 확장\n",
        "+ 노트북은 내거지만, 추가 가전 제품을 구매해서 확장"
      ],
      "metadata": {
        "id": "byphFn06GENq"
      }
    },
    {
      "cell_type": "code",
      "source": [
        "class Parent:\n",
        "  \n",
        "  #instance attribute\n",
        "  def __init__(self, name, age):\n",
        "    self.name = name\n",
        "    self.age = age\n",
        "\n",
        "  def whoAmI(self):\n",
        "    print(\"I am parent\")\n",
        "\n",
        "  def singing(self, songtitle):\n",
        "    return \"{} {}을 노래합니다.\".format(self.name, songtitle)\n",
        "\n",
        "  def dancing(self):\n",
        "    return \"{} 현재 춤을 춥니다.\".format(self.name)\n",
        "\n",
        "class Child(Parent) :\n",
        "  def __init__(self, name, age):\n",
        "    # super() function self.name = name, self.age = age 앞단의 정의했던 함수를 쓰는 것\n",
        "    super().__init__(name, age)\n",
        "    print(\"Child Class is ON\")\n",
        "\n",
        "  def whoAmI(self):\n",
        "    print(\"I am Child\")\n",
        "\n",
        "  def studying(self):\n",
        "    print(\"I am Fast Runner\")\n",
        "\n",
        "if __name__ == \"__main__\":\n",
        "  child_kim = Child(\"Kim\", 15)\n",
        "  parent_kim = Parent(\"Kim\", 45)\n",
        "  print(child_kim.dancing())\n",
        "  print(child_kim.singing(\"연애\"))\n",
        "  # print(parent_kim.studying()) 에러 뜨는 경우 --> 부모에 studying 속성이 없어서\n",
        "  child_kim.whoAmI()\n",
        "  parent_kim.whoAmI()"
      ],
      "metadata": {
        "colab": {
          "base_uri": "https://localhost:8080/"
        },
        "id": "iG6zAeE3G-fu",
        "outputId": "80f8cc4b-15aa-47d6-911a-6bd30fd8710d"
      },
      "execution_count": null,
      "outputs": [
        {
          "output_type": "stream",
          "name": "stdout",
          "text": [
            "Child Class is ON\n",
            "Kim 현재 춤을 춥니다.\n",
            "Kim 연애을 노래합니다.\n",
            "I am Child\n",
            "I am parent\n"
          ]
        }
      ]
    },
    {
      "cell_type": "code",
      "source": [
        "class TV:\n",
        "\n",
        "  #init constructor\n",
        "  def __init__(self):\n",
        "    self.__maxprice = 500\n",
        "\n",
        "  def sell(self):\n",
        "    print(\"Selling Price: {}\".format(self.__maxprice))\n",
        "\n",
        "  def setMaxPrice(self, price):\n",
        "    self.__maxprice = price\n",
        "\n",
        "if __name__ == \"__main__\":\n",
        "  tv = TV()\n",
        "  tv.sell()\n",
        "\n",
        "  # change price #안바뀌는 코드의 예시\n",
        "  tv.__maxprice = 1000\n",
        "  tv.sell()\n",
        "\n",
        "  # setMaxPrice #값을 바꿀 수 있다!? 외부의 입력값을 업데이트 할 수 있다\n",
        "  tv.setMaxPrice(1000)\n",
        "  tv.sell()"
      ],
      "metadata": {
        "colab": {
          "base_uri": "https://localhost:8080/"
        },
        "id": "UP_wupf5Rex3",
        "outputId": "b3c3c930-70e3-4ef7-ef7b-dd48827b6673"
      },
      "execution_count": null,
      "outputs": [
        {
          "output_type": "stream",
          "name": "stdout",
          "text": [
            "Selling Price: 500\n",
            "Selling Price: 500\n",
            "Selling Price: 1000\n"
          ]
        }
      ]
    },
    {
      "cell_type": "markdown",
      "source": [
        "## 클래스 내부에 조건문\n",
        "-  init constructor에 조건문을 써보자"
      ],
      "metadata": {
        "id": "GjpQIdqpZ0Zk"
      }
    },
    {
      "cell_type": "code",
      "source": [
        "class Employee:\n",
        "\n",
        "  #init constructor\n",
        "  def __init__(self, name, salary = 0): #기본급이 0원\n",
        "    self.name = name\n",
        "    \n",
        "    # 조건문 추가\n",
        "    if salary >= 0:\n",
        "      self.salary = salary\n",
        "\n",
        "    else:\n",
        "      self.salary = 0\n",
        "      print(\"급여는 0원이 될 수 없다!. 다시 입력하십시오\")\n",
        "\n",
        "  def update_salary(self, amount):\n",
        "    # self.salary = self.salary + amount\n",
        "    self.salary += amount\n",
        "\n",
        "  def weekly_salary(self):\n",
        "    return self.salary / 7\n",
        "\n",
        "\n",
        "if __name__ == \"__main__\":\n",
        "  emp01 = Employee(\"Seyeon\", -50000)\n",
        "  print(emp01.name)\n",
        "  print(emp01.salary)\n",
        "  emp01.salary = emp01.salary + 1500\n",
        "  print(emp01.salary)\n",
        "  emp01.update_salary(3000)\n",
        "  print(emp01.salary)\n",
        "  week_salary = emp01.weekly_salary()\n",
        "  print(week_salary)\n",
        "  #name, salary"
      ],
      "metadata": {
        "colab": {
          "base_uri": "https://localhost:8080/"
        },
        "id": "KGc8IGq3Z4f0",
        "outputId": "b5b995f1-d943-46fd-fc8d-675ec25ec28e"
      },
      "execution_count": null,
      "outputs": [
        {
          "output_type": "stream",
          "name": "stdout",
          "text": [
            "급여는 0원이 될 수 없다!. 다시 입력하십시오\n",
            "Seyeon\n",
            "0\n",
            "1500\n",
            "4500\n",
            "642.8571428571429\n"
          ]
        }
      ]
    },
    {
      "cell_type": "markdown",
      "source": [
        "# 클래스 Docstring"
      ],
      "metadata": {
        "id": "De9EUEgfeRcB"
      }
    },
    {
      "cell_type": "code",
      "source": [
        "# from typing import AsyncGenerator\n",
        "\n",
        "class Person:\n",
        "  \"\"\"\n",
        "  사람을 표현하는 클래스\n",
        "\n",
        "  ...\n",
        "\n",
        "  Attributes\n",
        "  ----------\n",
        "  name : str\n",
        "    name of the person\n",
        "\n",
        "  age : int\n",
        "    age of the person\n",
        "\n",
        "\n",
        "  Methods\n",
        "  ----------\n",
        "\n",
        "  info(additional=\"\"):\n",
        "    Prints the person's name and age\n",
        "\n",
        "  \"\"\"\n",
        "\n",
        "  def __init__(self, name, age):\n",
        "    \"\"\"\n",
        "    Constructs all the neccessary attributes for the person object\n",
        "\n",
        "    Parameters\n",
        "    ----------\n",
        "      name : str\n",
        "        name of the person\n",
        "\n",
        "      age : int\n",
        "        age of the person\n",
        "    \"\"\"\n",
        "\n",
        "    self.name = name\n",
        "    self.age = age\n",
        "\n",
        "  def info(self, additional=None):\n",
        "    \"\"\"\n",
        "    귀찮음... \n",
        "\n",
        "\n",
        "    Parameters\n",
        "    ----------\n",
        "      additional : str, optional\n",
        "        more info to be displayed (Default is None) / A, B, C \n",
        "\n",
        "\n",
        "    Returns\n",
        "    -------\n",
        "      None\n",
        "\n",
        "    \"\"\"\n",
        "\n",
        "    print(f'My name is {self.name}. I am {self.age} years old. ' + additional)\n",
        "\n",
        "if __name__ == \"__main__\":\n",
        "    person = Person(\"Evan\", age = 20)\n",
        "    person.info(\"나의 직장은 00이야\")\n",
        "    help(Person)"
      ],
      "metadata": {
        "colab": {
          "base_uri": "https://localhost:8080/"
        },
        "id": "6LRH49kueq38",
        "outputId": "0db6bbf3-aa16-4612-93d2-44747a17484a"
      },
      "execution_count": null,
      "outputs": [
        {
          "output_type": "stream",
          "name": "stdout",
          "text": [
            "My name is Evan. I am 20 years old. 나의 직장은 00이야\n",
            "Help on class Person in module __main__:\n",
            "\n",
            "class Person(builtins.object)\n",
            " |  Person(name, age)\n",
            " |  \n",
            " |  사람을 표현하는 클래스\n",
            " |  \n",
            " |  ...\n",
            " |  \n",
            " |  Attributes\n",
            " |  ----------\n",
            " |  name : str\n",
            " |    name of the person\n",
            " |  \n",
            " |  age : int\n",
            " |    age of the person\n",
            " |  \n",
            " |  \n",
            " |  Methods\n",
            " |  ----------\n",
            " |  \n",
            " |  info(additional=\"\"):\n",
            " |    Prints the person's name and age\n",
            " |  \n",
            " |  Methods defined here:\n",
            " |  \n",
            " |  __init__(self, name, age)\n",
            " |      Constructs all the neccessary attributes for the person object\n",
            " |      \n",
            " |      Parameters\n",
            " |      ----------\n",
            " |        name : str\n",
            " |          name of the person\n",
            " |      \n",
            " |        age : int\n",
            " |          age of the person\n",
            " |  \n",
            " |  info(self, additional=None)\n",
            " |      귀찮음... \n",
            " |      \n",
            " |      \n",
            " |      Parameters\n",
            " |      ----------\n",
            " |        additional : str, optional\n",
            " |          more info to be displayed (Default is None) / A, B, C \n",
            " |      \n",
            " |      \n",
            " |      Returns\n",
            " |      -------\n",
            " |        None\n",
            " |  \n",
            " |  ----------------------------------------------------------------------\n",
            " |  Data descriptors defined here:\n",
            " |  \n",
            " |  __dict__\n",
            " |      dictionary for instance variables (if defined)\n",
            " |  \n",
            " |  __weakref__\n",
            " |      list of weak references to the object (if defined)\n",
            "\n"
          ]
        }
      ]
    }
  ]
}