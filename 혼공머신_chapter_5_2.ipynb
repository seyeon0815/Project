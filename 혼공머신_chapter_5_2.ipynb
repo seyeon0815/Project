{
  "nbformat": 4,
  "nbformat_minor": 0,
  "metadata": {
    "colab": {
      "name": "혼공머신_chapter_5_2.ipynb",
      "provenance": [],
      "authorship_tag": "ABX9TyNI0C5oljzIPhQpnkdcZ5YA",
      "include_colab_link": true
    },
    "kernelspec": {
      "name": "python3",
      "display_name": "Python 3"
    },
    "language_info": {
      "name": "python"
    }
  },
  "cells": [
    {
      "cell_type": "markdown",
      "metadata": {
        "id": "view-in-github",
        "colab_type": "text"
      },
      "source": [
        "<a href=\"https://colab.research.google.com/github/seyeon0815/Project/blob/main/%ED%98%BC%EA%B3%B5%EB%A8%B8%EC%8B%A0_chapter_5_2.ipynb\" target=\"_parent\"><img src=\"https://colab.research.google.com/assets/colab-badge.svg\" alt=\"Open In Colab\"/></a>"
      ]
    },
    {
      "cell_type": "markdown",
      "source": [
        "# 교차 검증과 그리드 서치\n",
        "- 키워드 : 하이퍼 파라미터\n",
        "- 데이터가 작을 때 주로 사용"
      ],
      "metadata": {
        "id": "2b-nF2uGM2n-"
      }
    },
    {
      "cell_type": "markdown",
      "source": [
        "# 검증 세트\n",
        "- 테스트 세트 (일회성)\n",
        "- 훈련 데이터를 훈련 데이터 + 검증 데이터로 재분할\n"
      ],
      "metadata": {
        "id": "PaQDPPjjOiIa"
      }
    },
    {
      "cell_type": "markdown",
      "source": [
        "## 현실\n",
        "- 테스트 데이터가 별도로 존재하지 않음\n",
        "- 전체 데이터 = 훈련(6) : 검증(2) : 테스트(2)\n",
        " + 테스트 데이터는 모르는 데이터로 생각\n",
        " + 테스트 데이터는 마지막에 일회성으로 적용"
      ],
      "metadata": {
        "id": "N2usu61GO_BQ"
      }
    },
    {
      "cell_type": "code",
      "execution_count": null,
      "metadata": {
        "id": "c4SpFab-Mu54"
      },
      "outputs": [],
      "source": [
        "import pandas as pd\n",
        "wine = pd.read_csv('https://bit.ly/wine_csv_data')"
      ]
    },
    {
      "cell_type": "code",
      "source": [
        "data = wine[['alcohol', 'sugar', 'pH']].to_numpy()\n",
        "target = wine['class'].to_numpy()"
      ],
      "metadata": {
        "id": "ka4TcIqOP2K_"
      },
      "execution_count": null,
      "outputs": []
    },
    {
      "cell_type": "code",
      "source": [
        "# 훈련 세트와 테스트 세트를 나누는 것은 이전과 동일\n",
        "from sklearn.model_selection import train_test_split\n",
        "train_input, test_input, train_target, test_target = train_test_split(\n",
        "    data, target, test_size=0.2, random_state=42\n",
        ")"
      ],
      "metadata": {
        "id": "9jBvtqq4QT60"
      },
      "execution_count": null,
      "outputs": []
    },
    {
      "cell_type": "code",
      "source": [
        "# 훈련세트 sub_input/target 과 검증세트 val_input/target 으로 다시 나누기\n",
        "sub_input, val_input, sub_target, val_target = train_test_split(\n",
        "    train_input, train_target, test_size = 0.2, rand om_state=42\n",
        ") \n",
        "# 여기서도 test_size는 20%로 val_input 만들기"
      ],
      "metadata": {
        "id": "FgDNRVK-QoDM"
      },
      "execution_count": null,
      "outputs": []
    },
    {
      "cell_type": "code",
      "source": [
        "print(sub_input.shape, val_input.shape, test_input.shape) #훈련데이터세트, 검증 데이터세트, 테스트 데이터세트"
      ],
      "metadata": {
        "colab": {
          "base_uri": "https://localhost:8080/"
        },
        "id": "SJQx6ZW8QzYl",
        "outputId": "d6ce1ac2-dbe8-4943-c81c-4a4dfc7a7e32"
      },
      "execution_count": null,
      "outputs": [
        {
          "output_type": "stream",
          "name": "stdout",
          "text": [
            "(4157, 3) (1040, 3) (1300, 3)\n"
          ]
        }
      ]
    },
    {
      "cell_type": "markdown",
      "source": [
        "# 모델 만든 후 평가\n",
        "- 결정트리 분류 모델 사용"
      ],
      "metadata": {
        "id": "IZkjiUO_RFle"
      }
    },
    {
      "cell_type": "code",
      "source": [
        "from sklearn.tree import DecisionTreeClassifier\n",
        "dt = DecisionTreeClassifier(random_state=42)\n",
        "dt.fit(sub_input, sub_target)\n",
        "print(dt.score(sub_input, sub_target))\n",
        "print(dt.score(val_input, val_target))\n",
        "#과대적합 발생(훈련세트 점수 > 검증세트 점수) => 매개변수를 바꿔서 더 좋은 모델을 찾아야 함"
      ],
      "metadata": {
        "colab": {
          "base_uri": "https://localhost:8080/"
        },
        "id": "or8d0cb1Q4Fw",
        "outputId": "5bf28d58-6e3d-47ee-d483-81ad353bde71"
      },
      "execution_count": null,
      "outputs": [
        {
          "output_type": "stream",
          "name": "stdout",
          "text": [
            "0.9971133028626413\n",
            "0.864423076923077\n"
          ]
        }
      ]
    },
    {
      "cell_type": "markdown",
      "source": [
        "# 교차 검증\n",
        "- 교차 검증의 목적 : 좋은 모델을 만들기 위해\n",
        " + 좋은 모델 != 성능 좋은 모델\n",
        " + 좋은 모델 = 과대적합이 아닌 모델 = 모형의 오차가 적은 모델 = 안정적인 모델(어떤 데이터가 들어와도 ㅡ%를 유지하는 모델)\n",
        "\n",
        " - 교차 검증이란?\n",
        " 1. 검증 세트/ 훈련 세트/ 훈련 세트\n",
        " 2. 훈련 세트/ 검정 세트/ 훈련 세트\n",
        " 3. 훈련 세트/ 훈련 세트/ 검증 세트\n",
        "+ 훈련세트끼리 모델 훈련, 검증 세트로 모델 평가 -> 각 단계에서 검증 점수를 평균\n",
        "+ 각각의 세트를 '폴드'라고 함\n",
        "+ 위는 훈련 세트를 세 부분으로 나눠서 교차 검증을 수행한 3-폴드 교차 검증 = k-폴드 교차검증(k-fold cross validation)\n",
        "+ 보통 5-폴드/10-폴드 교차 검증을 많이 사용 ->데이터의 80~90%까지 훈련에서 사용 가능\n",
        "+ kfold의 경우 일정한 간격으로 잘라서 사용 -> 0,1,2 를 0,1/2 또는 0,2/1로 학습했을 때 2, 1 의 값을 도출 할 수 없음 -> 이를 보완하기 위해 StratifiedKfold 등장\n",
        "\n",
        "- StratifiedKFold\n",
        "+ target에 속성값의 개수를 동일하게 가져감으로써 KFold와 같이 데이터가 한쪽으로 몰리는 것을 방지해줌"
      ],
      "metadata": {
        "id": "QLKfIWbZRi-x"
      }
    },
    {
      "cell_type": "markdown",
      "source": [
        "# 교차 검증 함수\n",
        " - cross_validate()함수는 기본적으로 5-폴드 교차 검증 수행"
      ],
      "metadata": {
        "id": "uzQxG0DWT2vd"
      }
    },
    {
      "cell_type": "code",
      "source": [
        "from sklearn.model_selection import cross_validate\n",
        "scores = cross_validate(dt, train_input, train_target)\n",
        "print(scores)\n",
        "# fit_time: 모델을 훈련하는 시간\n",
        "# score_time: 모델을 검증하는 시간\n",
        "# test_score : 교차 검증 점수 -> 5개 점수를 평균하여 교차 검증의 최종 점수 얻을 수 있음\n",
        "\n",
        "# 최종 점수 평균 구하기\n",
        "import numpy as np\n",
        "print(np.mean(scores['test_score'])) # 교차 검증 점수 5개 평균하여 최종 점수 얻기"
      ],
      "metadata": {
        "colab": {
          "base_uri": "https://localhost:8080/"
        },
        "id": "H4408EyXRYGg",
        "outputId": "93269290-7b36-45c6-8bbb-9cbd906650dd"
      },
      "execution_count": null,
      "outputs": [
        {
          "output_type": "stream",
          "name": "stdout",
          "text": [
            "{'fit_time': array([0.00845838, 0.00688076, 0.00716376, 0.00725484, 0.00754499]), 'score_time': array([0.00065303, 0.00058985, 0.0005753 , 0.00059128, 0.00064611]), 'test_score': array([0.86923077, 0.84615385, 0.87680462, 0.84889317, 0.83541867])}\n",
            "0.855300214703487\n"
          ]
        }
      ]
    },
    {
      "cell_type": "markdown",
      "source": [
        "- 훈련 세트 섞은 후 10 폴드 교차 검증"
      ],
      "metadata": {
        "id": "sL0wOEBqUJkp"
      }
    },
    {
      "cell_type": "code",
      "source": [
        "from sklearn.model_selection import StratifiedKFold # 분류 모델일 경우 타깃 클래스를 골고로 나누기 위해 StartifiedKFold 사용 (회귀 모델일 경우 KFOLD 분할기 사용)\n",
        "# stratify = 계층화화다 / 계층화된 KFold\n",
        "splitter = StratifiedKFold(n_splits = 10, shuffle = True, random_state = 42)# splitter = 분할기, 교차 검정 시 훈련 세트를 섞어줌/# n_splits = 몇(k)폴드 교차 검증을 할 지/# shuffle = 데이터 섞기\n",
        "scores = cross_validate(dt, train_input, train_target, cv = splitter) #cv = cross_valicate 교차 검증 #splitter= 폴드를 어떻게 분할할지 -> StratifiedKFold 방법으로\n",
        "\n",
        "print(np.mean(scores['test_score']))"
      ],
      "metadata": {
        "colab": {
          "base_uri": "https://localhost:8080/"
        },
        "id": "VPTPndaPUMrx",
        "outputId": "432bf51e-ea66-4944-9746-4c6af6646eda"
      },
      "execution_count": null,
      "outputs": [
        {
          "output_type": "stream",
          "name": "stdout",
          "text": [
            "0.8631895657329183\n"
          ]
        }
      ]
    },
    {
      "cell_type": "markdown",
      "source": [
        "- 하이퍼 파라미터 튜닝 꼭 하고 싶을 때 랜덤 서치 사용\n",
        "- 자동으로 잡아주는 라이브러리 사용"
      ],
      "metadata": {
        "id": "S34OGJS0aCXH"
      }
    },
    {
      "cell_type": "markdown",
      "source": [
        "- \n",
        "- min_samples_split : 자식 노드를 분할하는데 필요한 최소 샘플 수 (default값은 2)"
      ],
      "metadata": {
        "id": "oRw4quMw-oH7"
      }
    },
    {
      "cell_type": "markdown",
      "source": [
        "# 그리드 서치(GridSearchCV)\n",
        "- 하이퍼파라미터 탐색과 교차 검증을 한 번에 수행\n",
        " -> cross_validate()함수 호출할 필요 x"
      ],
      "metadata": {
        "id": "IxSUEqCQlLbu"
      }
    },
    {
      "cell_type": "code",
      "source": [
        "from sklearn.model_selection import GridSearchCV\n",
        "params = {\n",
        "    'min_impurity_decrease' : [0.0001, 0.0002, 0.0003, 0.0004, 0.0005] # 탐색할 매개 변수와 탐색할 값의 리스트를 딕셔너리로 만들기\n",
        "} #min_impurity_decrease = 최소 불순도\n",
        "dt = DecisionTreeClassifier(random_state =42)\n",
        "gs = GridSearchCV(DecisionTreeClassifier(random_state=42),params, n_jobs = -1)\n",
        "gs.fit(train_input, train_target)\n",
        "#parameter가 추가 될 수록 시간이 매우 길어짐 -> n_jobs = -1 : 비유)내가 가진 모든 말을 다 써서 마차를 끌겠다는 뜻 , 시간 단축"
      ],
      "metadata": {
        "colab": {
          "base_uri": "https://localhost:8080/"
        },
        "id": "RmgsvPS_bLXp",
        "outputId": "f5320959-046e-42f5-a2d5-a50211b13543"
      },
      "execution_count": null,
      "outputs": [
        {
          "output_type": "execute_result",
          "data": {
            "text/plain": [
              "GridSearchCV(estimator=DecisionTreeClassifier(random_state=42), n_jobs=-1,\n",
              "             param_grid={'min_impurity_decrease': [0.0001, 0.0002, 0.0003,\n",
              "                                                   0.0004, 0.0005]})"
            ]
          },
          "metadata": {},
          "execution_count": 17
        }
      ]
    },
    {
      "cell_type": "code",
      "source": [
        "from sklearn.model_selection import GridSearchCV\n",
        "params = {\n",
        "    'min_impurity_decrease' : [0.0001, 0.0002, 0.0003, 0.0004, 0.0005],\n",
        "    'max_depth' : [3, 4, 5, 6, 7]\n",
        "}\n",
        "dt = DecisionTreeClassifier(random_state =42)\n",
        "gs = GridSearchCV(DecisionTreeClassifier(random_state=42),params, n_jobs = -1)\n",
        "gs.fit(train_input, train_target)\n",
        "#parameter가 추가 될 수록 시간이 매우 길어짐 -> n_jobs = -1 : 내가 쓰고 있는 모든 말을 다 써서 마차를 끌겠다는 뜻"
      ],
      "metadata": {
        "colab": {
          "base_uri": "https://localhost:8080/"
        },
        "id": "ZhIGLzkPdEiu",
        "outputId": "7d76d0b9-6eb2-4be0-8cd3-972614b1162f"
      },
      "execution_count": null,
      "outputs": [
        {
          "output_type": "execute_result",
          "data": {
            "text/plain": [
              "GridSearchCV(estimator=DecisionTreeClassifier(random_state=42), n_jobs=-1,\n",
              "             param_grid={'max_depth': [3, 4, 5, 6, 7],\n",
              "                         'min_impurity_decrease': [0.0001, 0.0002, 0.0003,\n",
              "                                                   0.0004, 0.0005]})"
            ]
          },
          "metadata": {},
          "execution_count": 25
        }
      ]
    },
    {
      "cell_type": "code",
      "source": [
        "dt = gs.best_estimator_\n",
        "print(dt)\n",
        "print(dt.score(train_input, train_target))\n",
        "print(gs.best_params_) #최적의 parameter 찾아줌"
      ],
      "metadata": {
        "colab": {
          "base_uri": "https://localhost:8080/"
        },
        "id": "I9vTxsh5cXOa",
        "outputId": "e5d7a264-508c-4ef5-87a4-8c30128eef5b"
      },
      "execution_count": null,
      "outputs": [
        {
          "output_type": "stream",
          "name": "stdout",
          "text": [
            "DecisionTreeClassifier(max_depth=7, min_impurity_decrease=0.0005,\n",
            "                       random_state=42)\n",
            "0.8830094285164518\n",
            "{'max_depth': 7, 'min_impurity_decrease': 0.0005}\n"
          ]
        }
      ]
    },
    {
      "cell_type": "code",
      "source": [
        "print(gs.cv_results_['mean_test_score'])\n",
        "#0.0001과 3,4,5,6,7/0.0002와 3,4,5,6,7/,,,로 총 25개"
      ],
      "metadata": {
        "colab": {
          "base_uri": "https://localhost:8080/"
        },
        "id": "iSzflpYIdceT",
        "outputId": "acf97a83-1d91-411c-daec-a04f6e23ef81"
      },
      "execution_count": null,
      "outputs": [
        {
          "output_type": "stream",
          "name": "stdout",
          "text": [
            "[0.84125583 0.84125583 0.84125583 0.84125583 0.84125583 0.85337806\n",
            " 0.85337806 0.85337806 0.85337806 0.85318557 0.85780355 0.85799604\n",
            " 0.85857352 0.85857352 0.85838102 0.85645721 0.85799678 0.85876675\n",
            " 0.85972866 0.86088306 0.85607093 0.85761031 0.85799511 0.85991893\n",
            " 0.86280466]\n"
          ]
        }
      ]
    },
    {
      "cell_type": "markdown",
      "source": [
        "# 랜덤서치\n",
        "- p.252 매개변수 값의 목록을 전달하는 것이 아니라 매개변수를 샘플링할 수 있도록 확률 분포 객체를 전달하"
      ],
      "metadata": {
        "id": "ItbmRsDHeV--"
      }
    },
    {
      "cell_type": "code",
      "source": [
        "from scipy.stats import uniform, randint\n",
        "rgen = randint(0,10)\n",
        "rgen.rvs(10)"
      ],
      "metadata": {
        "colab": {
          "base_uri": "https://localhost:8080/"
        },
        "id": "c8GzTGureCQH",
        "outputId": "18e3e273-07cf-4e94-bf66-823cfbbb48ca"
      },
      "execution_count": null,
      "outputs": [
        {
          "output_type": "execute_result",
          "data": {
            "text/plain": [
              "array([3, 9, 4, 9, 5, 0, 2, 9, 5, 7])"
            ]
          },
          "metadata": {},
          "execution_count": 30
        }
      ]
    },
    {
      "cell_type": "code",
      "source": [
        "np.unique(rgen.rvs(1000), return_counts = True)"
      ],
      "metadata": {
        "colab": {
          "base_uri": "https://localhost:8080/"
        },
        "id": "1nJTst5reSIe",
        "outputId": "b9f5f804-28d8-47d9-ff4c-012f5d2c21d9"
      },
      "execution_count": null,
      "outputs": [
        {
          "output_type": "execute_result",
          "data": {
            "text/plain": [
              "(array([0, 1, 2, 3, 4, 5, 6, 7, 8, 9]),\n",
              " array([ 92, 102,  94,  99, 108, 113,  98,  98,  97,  99]))"
            ]
          },
          "metadata": {},
          "execution_count": 31
        }
      ]
    },
    {
      "cell_type": "code",
      "source": [
        "# p.254\n",
        "from sklearn.model_selection import RandomizedSearchCV\n",
        "params = {\n",
        "    'min_impurity_decrease' : uniform(0.0001, 0.0001),\n",
        "    'max_depth' : randint(20, 50)\n",
        "}\n",
        "\n",
        "gs = RandomizedSearchCV(DecisionTreeClassifier(random_state=42),\n",
        "                        params, n_iter=100, n_jobs=-1, random_state= 42)\n",
        "gs.fit(train_input, train_target)"
      ],
      "metadata": {
        "colab": {
          "base_uri": "https://localhost:8080/"
        },
        "id": "vfGBdPzhe1Ge",
        "outputId": "013804fe-d6e7-4bac-ccb8-88ea22ace2e9"
      },
      "execution_count": null,
      "outputs": [
        {
          "output_type": "execute_result",
          "data": {
            "text/plain": [
              "RandomizedSearchCV(estimator=DecisionTreeClassifier(random_state=42),\n",
              "                   n_iter=100, n_jobs=-1,\n",
              "                   param_distributions={'max_depth': <scipy.stats._distn_infrastructure.rv_frozen object at 0x7f211f4caad0>,\n",
              "                                        'min_impurity_decrease': <scipy.stats._distn_infrastructure.rv_frozen object at 0x7f211f4ca9d0>},\n",
              "                   random_state=42)"
            ]
          },
          "metadata": {},
          "execution_count": 34
        }
      ]
    },
    {
      "cell_type": "markdown",
      "source": [
        "# 트리의 앙상블\n",
        "- LightGBM 기억\n",
        " + GBM --> XGBoost --> LightGBM\n",
        " + 참고 1. 모델 개발 속도가 빨라졌나?\n",
        " + 참고 2. 모델의 성능이 좋아졌나?\n",
        "= TabNet (2019)\n",
        " + 딥러닝 컨셉"
      ],
      "metadata": {
        "id": "F8LU3gsPnA2y"
      }
    },
    {
      "cell_type": "code",
      "source": [
        "# 매개변수란?\n",
        "def add(a, b): #여기 a = 1, b= 2 라고 쓸 수 있음 이것이 매개변수\n",
        "  return a+b\n",
        "\n",
        "  print(add(1,2)) \n",
        "\n",
        "  # (db, train_input, train_target, n_iter=-1 ,,,,) #괄호 안에 순서는 x,y,group,,,순이기 때문에 n_iter=-1이라는 매개변수를 작성해줌\n",
        "\n",
        "  #과대 적합이 일어날 때 매개변수를 바꾸어야 한다 --> max_depth 의 크기를 변경하는 것"
      ],
      "metadata": {
        "id": "qUGn3u9vo-Au"
      },
      "execution_count": null,
      "outputs": []
    }
  ]
}