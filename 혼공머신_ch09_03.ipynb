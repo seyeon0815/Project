{
  "nbformat": 4,
  "nbformat_minor": 0,
  "metadata": {
    "colab": {
      "name": "혼공머신 ch09_03.ipynb",
      "provenance": [],
      "collapsed_sections": [],
      "authorship_tag": "ABX9TyNfFvbqqcINPYM/mYmHpdS/",
      "include_colab_link": true
    },
    "kernelspec": {
      "name": "python3",
      "display_name": "Python 3"
    },
    "language_info": {
      "name": "python"
    }
  },
  "cells": [
    {
      "cell_type": "markdown",
      "metadata": {
        "id": "view-in-github",
        "colab_type": "text"
      },
      "source": [
        "<a href=\"https://colab.research.google.com/github/seyeon0815/Project/blob/main/%ED%98%BC%EA%B3%B5%EB%A8%B8%EC%8B%A0_ch09_03.ipynb\" target=\"_parent\"><img src=\"https://colab.research.google.com/assets/colab-badge.svg\" alt=\"Open In Colab\"/></a>"
      ]
    },
    {
      "cell_type": "markdown",
      "source": [
        "# LSTM 신경망 훈련하기\n",
        "- RNN은 실무에서 사용 x\n",
        "- 문장이 길면 학습 능력이 떨어짐\n",
        "- Long short-Term Meomory\n",
        "- 단기 기억을 오래 기억하기 위해 고안됨\n",
        "- 셀 안에 작은 셀을 만든다(메모장에 적어뒀다가 "
      ],
      "metadata": {
        "id": "r33aTSur8xZe"
      }
    },
    {
      "cell_type": "code",
      "source": [
        "from tensorflow.keras.datasets import imdb\n",
        "from sklearn.model_selection import train_test_split\n",
        "\n",
        "(train_input, train_target), (test_input, test_target) = imdb.load_data(\n",
        "    num_words=500)\n",
        "\n",
        "train_input, val_input, train_target, val_target = train_test_split(\n",
        "    train_input, train_target, test_size=0.2, random_state=42)"
      ],
      "metadata": {
        "colab": {
          "base_uri": "https://localhost:8080/"
        },
        "id": "fz5Wsf1M8yhU",
        "outputId": "f7e158ea-ab54-476b-8465-7a2dfb1bddea"
      },
      "execution_count": null,
      "outputs": [
        {
          "output_type": "stream",
          "name": "stdout",
          "text": [
            "Downloading data from https://storage.googleapis.com/tensorflow/tf-keras-datasets/imdb.npz\n",
            "17465344/17464789 [==============================] - 0s 0us/step\n",
            "17473536/17464789 [==============================] - 0s 0us/step\n"
          ]
        }
      ]
    },
    {
      "cell_type": "markdown",
      "source": [
        "## padding"
      ],
      "metadata": {
        "id": "NnvsYCFF-1hd"
      }
    },
    {
      "cell_type": "code",
      "source": [
        "from tensorflow.keras.preprocessing.sequence import pad_sequences\n",
        "\n",
        "train_seq = pad_sequences(train_input, maxlen=100)\n",
        "val_seq= pad_sequences(val_input, maxlen=100)"
      ],
      "metadata": {
        "id": "jr3HV3G8-3lM"
      },
      "execution_count": null,
      "outputs": []
    },
    {
      "cell_type": "markdown",
      "source": [
        "# 모형 만들기"
      ],
      "metadata": {
        "id": "7LGR_QEjMB3r"
      }
    },
    {
      "cell_type": "code",
      "source": [
        "from tensorflow import keras\n",
        "model = keras.Sequential()\n",
        "model.add(keras.layers.Embedding(500,167,input_length=100))\n",
        "model.add(keras.layers.LSTM(8)) #SimpleRNN\n",
        "model.add(keras.layers.Dense(1,activation='sigmoid'))\n",
        "\n",
        "model.summary()"
      ],
      "metadata": {
        "colab": {
          "base_uri": "https://localhost:8080/"
        },
        "id": "cEE8DCf1_EN0",
        "outputId": "459c45e2-244a-4702-b58b-cf2b59702581"
      },
      "execution_count": null,
      "outputs": [
        {
          "output_type": "stream",
          "name": "stdout",
          "text": [
            "Model: \"sequential\"\n",
            "_________________________________________________________________\n",
            " Layer (type)                Output Shape              Param #   \n",
            "=================================================================\n",
            " embedding (Embedding)       (None, 100, 167)          83500     \n",
            "                                                                 \n",
            " lstm (LSTM)                 (None, 8)                 5632      \n",
            "                                                                 \n",
            " dense (Dense)               (None, 1)                 9         \n",
            "                                                                 \n",
            "=================================================================\n",
            "Total params: 89,141\n",
            "Trainable params: 89,141\n",
            "Non-trainable params: 0\n",
            "_________________________________________________________________\n"
          ]
        }
      ]
    },
    {
      "cell_type": "code",
      "source": [
        "rmsprop = keras.optimizers.RMSprop(learning_rate=1e-4)\n",
        "model.compile(optimizer=rmsprop, loss='binary_crossentropy', \n",
        "              metrics=['accuracy'])\n",
        "\n",
        "checkpoint_cb = keras.callbacks.ModelCheckpoint('best-lstm-model.h5', \n",
        "                                                save_best_only=True)\n",
        "early_stopping_cb = keras.callbacks.EarlyStopping(patience=3,\n",
        "                                                  restore_best_weights=True)\n",
        "\n",
        "history = model.fit(train_seq, train_target, epochs=10, batch_size=64, #epochs=100\n",
        "                    validation_data=(val_seq, val_target),\n",
        "                    callbacks=[checkpoint_cb, early_stopping_cb])"
      ],
      "metadata": {
        "colab": {
          "base_uri": "https://localhost:8080/"
        },
        "id": "yaLNDxUP_kAt",
        "outputId": "c0552065-5c26-48eb-f61a-90caebc1cc9b"
      },
      "execution_count": null,
      "outputs": [
        {
          "output_type": "stream",
          "name": "stdout",
          "text": [
            "Epoch 1/10\n",
            "313/313 [==============================] - 20s 59ms/step - loss: 0.3981 - accuracy: 0.8246 - val_loss: 0.4380 - val_accuracy: 0.7996\n",
            "Epoch 2/10\n",
            "313/313 [==============================] - 17s 55ms/step - loss: 0.3961 - accuracy: 0.8251 - val_loss: 0.4312 - val_accuracy: 0.8012\n",
            "Epoch 3/10\n",
            "313/313 [==============================] - 18s 56ms/step - loss: 0.3943 - accuracy: 0.8254 - val_loss: 0.4363 - val_accuracy: 0.8000\n",
            "Epoch 4/10\n",
            "313/313 [==============================] - 18s 56ms/step - loss: 0.3940 - accuracy: 0.8249 - val_loss: 0.4348 - val_accuracy: 0.7976\n",
            "Epoch 5/10\n",
            "313/313 [==============================] - 18s 58ms/step - loss: 0.3925 - accuracy: 0.8258 - val_loss: 0.4355 - val_accuracy: 0.8016\n"
          ]
        }
      ]
    },
    {
      "cell_type": "markdown",
      "source": [
        "# 손실 곡선 추가"
      ],
      "metadata": {
        "id": "TTmDVFnp_qat"
      }
    },
    {
      "cell_type": "code",
      "source": [
        "import matplotlib.pyplot as plt\n",
        "\n",
        "plt.plot(history.history['loss'])\n",
        "plt.plot(history.history['val_loss'])\n",
        "plt.xlabel('epoch')\n",
        "plt.ylabel('loss')\n",
        "plt.legend(['train','val'])\n",
        "plt.show()"
      ],
      "metadata": {
        "colab": {
          "base_uri": "https://localhost:8080/",
          "height": 282
        },
        "id": "SRy1JXxE_sId",
        "outputId": "18a68b0c-4a2b-4cb9-8595-4d1a16d875fb"
      },
      "execution_count": null,
      "outputs": [
        {
          "output_type": "display_data",
          "data": {
            "text/plain": [
              "<Figure size 432x288 with 1 Axes>"
            ],
            "image/png": "[encoded data removed]"
          },
          "metadata": {
            "needs_background": "light"
          }
        }
      ]
    },
    {
      "cell_type": "markdown",
      "source": [
        "# 순환층에 드롭아웃 적용하기"
      ],
      "metadata": {
        "id": "5hOIYrkLAsQ-"
      }
    },
    {
      "cell_type": "code",
      "source": [
        "model2 = keras.Sequential()\n",
        "\n",
        "model2.add(keras.layers.Embedding(500, 16, input_length=100))\n",
        "# 드롭아웃 추가\n",
        "model2.add(keras.layers.LSTM(8, dropout=0.3))\n",
        "model2.add(keras.layers.Dense(1, activation='sigmoid'))\n",
        "\n",
        "rmsprop = keras.optimizers.RMSprop(learning_rate=1e-4)\n",
        "model2.compile(optimizer=rmsprop, loss='binary_crossentropy', \n",
        "               metrics=['accuracy'])\n",
        "\n",
        "checkpoint_cb = keras.callbacks.ModelCheckpoint('best-dropout-model.h5', \n",
        "                                                save_best_only=True)\n",
        "early_stopping_cb = keras.callbacks.EarlyStopping(patience=3,\n",
        "                                                  restore_best_weights=True)\n",
        "\n",
        "# epcohs = 100\n",
        "history = model2.fit(train_seq, train_target, epochs=10, batch_size=64,\n",
        "                     validation_data=(val_seq, val_target),\n",
        "                     callbacks=[checkpoint_cb, early_stopping_cb])\n",
        "\n",
        "plt.plot(history.history['loss'])\n",
        "plt.plot(history.history['val_loss'])\n",
        "plt.xlabel('epoch')\n",
        "plt.ylabel('loss')\n",
        "plt.legend(['train', 'val'])\n",
        "plt.show()"
      ],
      "metadata": {
        "colab": {
          "base_uri": "https://localhost:8080/",
          "height": 648
        },
        "id": "Yky-4P3tADge",
        "outputId": "cbf02f16-418b-4ead-e791-cd1047fdf517"
      },
      "execution_count": null,
      "outputs": [
        {
          "output_type": "stream",
          "name": "stdout",
          "text": [
            "Epoch 1/10\n",
            "313/313 [==============================] - 16s 44ms/step - loss: 0.6924 - accuracy: 0.5514 - val_loss: 0.6917 - val_accuracy: 0.6016\n",
            "Epoch 2/10\n",
            "313/313 [==============================] - 13s 42ms/step - loss: 0.6903 - accuracy: 0.6140 - val_loss: 0.6886 - val_accuracy: 0.6390\n",
            "Epoch 3/10\n",
            "313/313 [==============================] - 13s 42ms/step - loss: 0.6844 - accuracy: 0.6454 - val_loss: 0.6782 - val_accuracy: 0.6642\n",
            "Epoch 4/10\n",
            "313/313 [==============================] - 13s 42ms/step - loss: 0.6478 - accuracy: 0.6658 - val_loss: 0.6144 - val_accuracy: 0.7144\n",
            "Epoch 5/10\n",
            "313/313 [==============================] - 13s 42ms/step - loss: 0.5965 - accuracy: 0.7207 - val_loss: 0.5859 - val_accuracy: 0.7280\n",
            "Epoch 6/10\n",
            "313/313 [==============================] - 13s 42ms/step - loss: 0.5709 - accuracy: 0.7325 - val_loss: 0.5628 - val_accuracy: 0.7386\n",
            "Epoch 7/10\n",
            "313/313 [==============================] - 13s 42ms/step - loss: 0.5500 - accuracy: 0.7461 - val_loss: 0.5402 - val_accuracy: 0.7532\n",
            "Epoch 8/10\n",
            "313/313 [==============================] - 13s 42ms/step - loss: 0.5312 - accuracy: 0.7569 - val_loss: 0.5222 - val_accuracy: 0.7660\n",
            "Epoch 9/10\n",
            "313/313 [==============================] - 13s 41ms/step - loss: 0.5150 - accuracy: 0.7657 - val_loss: 0.5083 - val_accuracy: 0.7732\n",
            "Epoch 10/10\n",
            "313/313 [==============================] - 13s 42ms/step - loss: 0.5012 - accuracy: 0.7722 - val_loss: 0.4955 - val_accuracy: 0.7814\n"
          ]
        },
        {
          "output_type": "display_data",
          "data": {
            "text/plain": [
              "<Figure size 432x288 with 1 Axes>"
            ],
            "image/png": "[encoded data removed]"
          },
          "metadata": {
            "needs_background": "light"
          }
        }
      ]
    }
  ]
}