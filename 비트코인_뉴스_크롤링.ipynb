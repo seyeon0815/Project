{
  "nbformat": 4,
  "nbformat_minor": 0,
  "metadata": {
    "colab": {
      "name": "비트코인 뉴스 크롤링.ipynb",
      "provenance": [],
      "collapsed_sections": [],
      "authorship_tag": "ABX9TyNYOWPUDUFQBSNL+jY4/7bh",
      "include_colab_link": true
    },
    "kernelspec": {
      "name": "python3",
      "display_name": "Python 3"
    },
    "language_info": {
      "name": "python"
    }
  },
  "cells": [
    {
      "cell_type": "markdown",
      "metadata": {
        "id": "view-in-github",
        "colab_type": "text"
      },
      "source": [
        "<a href=\"https://colab.research.google.com/github/seyeon0815/Project/blob/main/%EB%B9%84%ED%8A%B8%EC%BD%94%EC%9D%B8_%EB%89%B4%EC%8A%A4_%ED%81%AC%EB%A1%A4%EB%A7%81.ipynb\" target=\"_parent\"><img src=\"https://colab.research.google.com/assets/colab-badge.svg\" alt=\"Open In Colab\"/></a>"
      ]
    },
    {
      "cell_type": "code",
      "execution_count": null,
      "metadata": {
        "id": "fHu-QJcdnXEj"
      },
      "outputs": [],
      "source": [
        "import requests\n",
        "from pandas import DataFrame\n",
        "from bs4 import BeautifulSoup\n",
        "import re\n",
        "from datetime import datetime"
      ]
    },
    {
      "cell_type": "code",
      "source": [
        "date = str(datetime.now()) \n",
        "date = date[:date.rfind(':')].replace(' ', '_') \n",
        "date = date.replace(':','시') + '분' "
      ],
      "metadata": {
        "id": "pDWwiU7MnY91"
      },
      "execution_count": null,
      "outputs": []
    },
    {
      "cell_type": "code",
      "source": [
        "query = \"비트코인\"\n",
        "query = query.replace(' ', '+') \n",
        "\n",
        "news_num = 5"
      ],
      "metadata": {
        "id": "Tza2wEUinacr"
      },
      "execution_count": null,
      "outputs": []
    },
    {
      "cell_type": "code",
      "source": [
        "news_url = 'https://search.naver.com/search.naver?where=news&sm=tab_jum&query=비트코인'\n",
        "\n",
        "req = requests.get(news_url.format(query))\n",
        "soup = BeautifulSoup(req.text, 'html.parser')"
      ],
      "metadata": {
        "id": "0u51FPe4ntTi"
      },
      "execution_count": null,
      "outputs": []
    },
    {
      "cell_type": "code",
      "source": [
        "news_dict = {} \n",
        "idx = 0 \n",
        "cur_page = 1"
      ],
      "metadata": {
        "id": "7JjmOxJ5nyuD"
      },
      "execution_count": null,
      "outputs": []
    },
    {
      "cell_type": "code",
      "source": [
        "print('크롤링 중...')\n",
        "\n",
        "while idx < news_num:\n",
        "### 네이버 뉴스 웹페이지 구성이 바뀌어 태그명, class 속성 값 등을 수정함(20210126) ###\n",
        "    \n",
        "    table = soup.find('ul',{'class' : 'list_news'})\n",
        "    li_list = table.find_all('li', {'id': re.compile('sp_nws.*')})\n",
        "    area_list = [li.find('div', {'class' : 'news_area'}) for li in li_list]\n",
        "    a_list = [area.find('a', {'class' : 'news_tit'}) for area in area_list]\n",
        "    \n",
        "    for n in a_list[:min(len(a_list), news_num-idx)]:\n",
        "        news_dict[idx] = {'title' : n.get('title'),\n",
        "                          'url' : n.get('href') }\n",
        "        idx += 1\n",
        "\n",
        "    cur_page += 1\n",
        "    \n",
        "    pages = soup.find('div', {'class' : 'sc_page_inner'})\n",
        "    next_page_url = [p for p in pages.find_all('a') if p.text == str(cur_page)][0].get('href')\n",
        "    \n",
        "    req = requests.get('https://search.naver.com/search.naver' + next_page_url)\n",
        "    soup = BeautifulSoup(req.text, 'html.parser')"
      ],
      "metadata": {
        "colab": {
          "base_uri": "https://localhost:8080/"
        },
        "id": "tQO9sCbfn0p6",
        "outputId": "5080e122-515f-4f3d-b8e3-3502c0df3c13"
      },
      "execution_count": null,
      "outputs": [
        {
          "output_type": "stream",
          "name": "stdout",
          "text": [
            "크롤링 중...\n"
          ]
        }
      ]
    },
    {
      "cell_type": "code",
      "source": [
        "print('크롤링 완료')\n",
        "news_df = DataFrame(news_dict).T\n",
        "\n",
        "xlsx_file_name = '네이버뉴스_{}_{}.xlsx'.format(query, date)\n",
        "\n",
        "news_df.to_excel(xlsx_file_name)"
      ],
      "metadata": {
        "colab": {
          "base_uri": "https://localhost:8080/"
        },
        "id": "EeCzeRcsn4oI",
        "outputId": "8f6c7183-928b-4f26-a2ba-87764709671a"
      },
      "execution_count": null,
      "outputs": [
        {
          "output_type": "stream",
          "name": "stdout",
          "text": [
            "크롤링 완료\n"
          ]
        }
      ]
    },
    {
      "cell_type": "code",
      "source": [
        "# 출처 https://everyday-tech.tistory.com/entry/%EC%89%BD%EA%B2%8C-%EB%94%B0%EB%9D%BC%ED%95%98%EB%8A%94-%EB%84%A4%EC%9D%B4%EB%B2%84-%EB%89%B4%EC%8A%A4-%ED%81%AC%EB%A1%A4%EB%A7%81python-2%ED%83%84"
      ],
      "metadata": {
        "id": "VF55K9UXn6cJ"
      },
      "execution_count": null,
      "outputs": []
    }
  ]
}