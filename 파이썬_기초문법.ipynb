{
  "nbformat": 4,
  "nbformat_minor": 0,
  "metadata": {
    "colab": {
      "name": "파이썬_기초문법.ipynb",
      "provenance": [],
      "collapsed_sections": [],
      "authorship_tag": "ABX9TyO483oLMEG81VFS+6t9OasM",
      "include_colab_link": true
    },
    "kernelspec": {
      "name": "python3",
      "display_name": "Python 3"
    },
    "language_info": {
      "name": "python"
    }
  },
  "cells": [
    {
      "cell_type": "markdown",
      "metadata": {
        "id": "view-in-github",
        "colab_type": "text"
      },
      "source": [
        "<a href=\"https://colab.research.google.com/github/seyeon0815/Project/blob/main/%ED%8C%8C%EC%9D%B4%EC%8D%AC_%EA%B8%B0%EC%B4%88%EB%AC%B8%EB%B2%95.ipynb\" target=\"_parent\"><img src=\"https://colab.research.google.com/assets/colab-badge.svg\" alt=\"Open In Colab\"/></a>"
      ]
    },
    {
      "cell_type": "markdown",
      "source": [
        "# Hello World"
      ],
      "metadata": {
        "id": "YKtHmW5bA_14"
      }
    },
    {
      "cell_type": "markdown",
      "source": [
        ""
      ],
      "metadata": {
        "id": "VQVA2KexBLbY"
      }
    },
    {
      "cell_type": "code",
      "source": [
        "print(\"Hello, World!\")"
      ],
      "metadata": {
        "colab": {
          "base_uri": "https://localhost:8080/"
        },
        "id": "QjJjF9TbBSLc",
        "outputId": "79a5d20a-cc08-4d54-950e-b28b60d63f8a"
      },
      "execution_count": null,
      "outputs": [
        {
          "output_type": "stream",
          "name": "stdout",
          "text": [
            "Hello, World!\n"
          ]
        }
      ]
    },
    {
      "cell_type": "markdown",
      "source": [
        "# 주석 처리\n",
        "-코드 작업 시 특정 코드에 대해 설명\n",
        "-사용자 정의 함수 작성 시, 클래스 작성 시..(도움말 작성)"
      ],
      "metadata": {
        "id": "cwtLoou7BWrg"
      }
    },
    {
      "cell_type": "markdown",
      "source": [
        ""
      ],
      "metadata": {
        "id": "OXL0kOXBBhFJ"
      }
    },
    {
      "cell_type": "code",
      "source": [
        "#한 줄 주석 처리\n",
        "'''\n",
        "여러 줄 주석 처리가 가능\n",
        "'''\n",
        "\n",
        "print(\"Hello, World!\")"
      ],
      "metadata": {
        "colab": {
          "base_uri": "https://localhost:8080/"
        },
        "id": "g08MsqlQB0C-",
        "outputId": "c9df3651-47ca-41d2-9562-6d82ba4769c7"
      },
      "execution_count": null,
      "outputs": [
        {
          "output_type": "stream",
          "name": "stdout",
          "text": [
            "Hello, World!\n"
          ]
        }
      ]
    },
    {
      "cell_type": "markdown",
      "source": [
        "# 변수 (scalar)\n",
        "- 객체(object)로 구현이 됨\n",
        " + 하나의 자료형(Type)을 가진다. (이것만 기억!)\n",
        " + 클래스로 정의가 됨.\n",
        " - 다양한 함수들이 존재 함."
      ],
      "metadata": {
        "id": "HRpkrgBeB5Rc"
      }
    },
    {
      "cell_type": "markdown",
      "source": [
        "## int\n",
        "- int 정수를 표현하는 데 사용함."
      ],
      "metadata": {
        "id": "OFI5FOTsCXDh"
      }
    },
    {
      "cell_type": "code",
      "source": [
        "# 데이터 전처리..\n",
        "# 데이터 전처리를 잘해야 분석도 잘함, 예측 모형도 잘 만듬\n",
        "# 데이터 전처리를  잘하기 위해서는 기초문법이 중요함.\n",
        "\n",
        "num_int = 1\n",
        "print(num_int)\n",
        "print(type(num_int))"
      ],
      "metadata": {
        "colab": {
          "base_uri": "https://localhost:8080/"
        },
        "id": "xaVakM6WCche",
        "outputId": "1bf1ccd5-56a9-4b1e-beee-35332336221b"
      },
      "execution_count": null,
      "outputs": [
        {
          "output_type": "stream",
          "name": "stdout",
          "text": [
            "1\n",
            "<class 'int'>\n"
          ]
        }
      ]
    },
    {
      "cell_type": "markdown",
      "source": [
        "## float\n",
        "- 실수를 표현하는데 사용한다."
      ],
      "metadata": {
        "id": "aUhVYb-qDkDN"
      }
    },
    {
      "cell_type": "code",
      "source": [
        "num_float = 0.2\n",
        "print(num_float)\n",
        "print(type(num_float))"
      ],
      "metadata": {
        "colab": {
          "base_uri": "https://localhost:8080/"
        },
        "id": "j0DFpeoiDpCL",
        "outputId": "9ea9ad73-b4db-4568-c044-19725bebba41"
      },
      "execution_count": null,
      "outputs": [
        {
          "output_type": "stream",
          "name": "stdout",
          "text": [
            "0.2\n",
            "<class 'float'>\n"
          ]
        }
      ]
    },
    {
      "cell_type": "markdown",
      "source": [
        "## bool\n",
        "- True와 False로 나타내는 Boolean 값을 표현하는데 사용한다,"
      ],
      "metadata": {
        "id": "fKcWDY4wD45a"
      }
    },
    {
      "cell_type": "code",
      "source": [
        "bool_true = True\n",
        "print(bool_true)\n",
        "print(type(bool_true))"
      ],
      "metadata": {
        "colab": {
          "base_uri": "https://localhost:8080/"
        },
        "id": "jmaQyyPwD_mK",
        "outputId": "d065112b-5a69-4b8d-9822-cb70e65278e9"
      },
      "execution_count": null,
      "outputs": [
        {
          "output_type": "stream",
          "name": "stdout",
          "text": [
            "True\n",
            "<class 'bool'>\n"
          ]
        }
      ]
    },
    {
      "cell_type": "markdown",
      "source": [
        "## None\n",
        "- Null을 나타내는 자료형으로 None이라는 한 가지 값만 가집니다."
      ],
      "metadata": {
        "id": "2ea5rup-EYBY"
      }
    },
    {
      "cell_type": "code",
      "source": [
        "none_x = None\n",
        "print(none_x)\n",
        "print(type(none_x))"
      ],
      "metadata": {
        "colab": {
          "base_uri": "https://localhost:8080/"
        },
        "id": "6Jg8eCRnEeLr",
        "outputId": "d717edaa-835e-427e-f6f1-850b2921cfa5"
      },
      "execution_count": null,
      "outputs": [
        {
          "output_type": "stream",
          "name": "stdout",
          "text": [
            "None\n",
            "<class 'NoneType'>\n"
          ]
        }
      ]
    },
    {
      "cell_type": "markdown",
      "source": [
        "# 사칙연산\n",
        "- 정수형 사칙 연산"
      ],
      "metadata": {
        "id": "REDNrQGHE1Vg"
      }
    },
    {
      "cell_type": "code",
      "source": [
        "a = 3\n",
        "b = 4\n",
        "print('a + b = ', a + b)\n",
        "print('a * b =', a * b)\n",
        "print('a / b =', a / b) #실수형, 나누기를 했을 때 class가 달라진다\n",
        "print('a // b =', a // b) #몫 구하기\n",
        "print('a % b =', a % b) #나머지 구하기\n",
        "print('a ** b =', a ** b) #제곱"
      ],
      "metadata": {
        "colab": {
          "base_uri": "https://localhost:8080/"
        },
        "id": "r7A1qhsOFCHz",
        "outputId": "f17db115-2d47-4f77-e967-1a96000dc4cb"
      },
      "execution_count": null,
      "outputs": [
        {
          "output_type": "stream",
          "name": "stdout",
          "text": [
            "a + b =  7\n",
            "a * b = 12\n",
            "a / b = 0.75\n",
            "a // b = 0\n",
            "a % b = 3\n",
            "a ** b = 81\n"
          ]
        }
      ]
    },
    {
      "cell_type": "markdown",
      "source": [
        "## 실수형 사칙연산"
      ],
      "metadata": {
        "id": "xeDy34gnGkSy"
      }
    },
    {
      "cell_type": "code",
      "source": [
        "a = 4.0\n",
        "b = 4.0\n",
        "print('a + b = ', a + b)\n",
        "print('a * b =', a * b)\n",
        "print('a / b =', a / b) #실수형\n",
        "print('a // b =', a // b) #몫 구하기\n",
        "print('a % b =', a % b) #나머지 구하기\n",
        "print('a ** b =', a ** b) #제곱"
      ],
      "metadata": {
        "colab": {
          "base_uri": "https://localhost:8080/"
        },
        "id": "H71qgFe8Goi5",
        "outputId": "bda7210f-84a2-4560-df66-5468b6392769"
      },
      "execution_count": null,
      "outputs": [
        {
          "output_type": "stream",
          "name": "stdout",
          "text": [
            "a + b =  8.0\n",
            "a * b = 16.0\n",
            "a / b = 1.0\n",
            "a // b = 1.0\n",
            "a % b = 0.0\n",
            "a ** b = 256.0\n"
          ]
        }
      ]
    },
    {
      "cell_type": "markdown",
      "source": [
        "# 논리형 연산자\n",
        "- Bool 형은 True와 False 값으로 정의\n",
        "- AND / OR"
      ],
      "metadata": {
        "id": "v46fve3LGzmJ"
      }
    },
    {
      "cell_type": "code",
      "source": [
        "x = 5 > 4\n",
        "# print(x)\n",
        "y = 3 > 4\n",
        "# print(y)\n",
        "\n",
        "print(x and x)\n",
        "print(x and y)\n",
        "print(y and x)\n",
        "print(y and y)\n",
        "print(\"----\")\n",
        "print(x or x)\n",
        "print(x or y)\n",
        "print(x or y)\n",
        "print(y or x)\n",
        "print(y or y)"
      ],
      "metadata": {
        "colab": {
          "base_uri": "https://localhost:8080/"
        },
        "id": "XhINLENbHEZk",
        "outputId": "761eebfd-44da-4a58-84fd-a7ac6240202c"
      },
      "execution_count": null,
      "outputs": [
        {
          "output_type": "stream",
          "name": "stdout",
          "text": [
            "True\n",
            "False\n",
            "False\n",
            "False\n",
            "----\n",
            "True\n",
            "True\n",
            "True\n",
            "True\n",
            "False\n"
          ]
        }
      ]
    },
    {
      "cell_type": "markdown",
      "source": [
        "# 비교 연산자\n",
        "- 부등호를 의미합니다.\n",
        "- 비교 연산자를 True와 False 값을 도출"
      ],
      "metadata": {
        "id": "MK7G0MQCH53I"
      }
    },
    {
      "cell_type": "markdown",
      "source": [
        "## 논리 & 비교 연산자 응용"
      ],
      "metadata": {
        "id": "cRfWRCjcIMIN"
      }
    },
    {
      "cell_type": "code",
      "source": [
        "var = input(\"입력하여 주세요...\")\n",
        "print(type(var))"
      ],
      "metadata": {
        "colab": {
          "base_uri": "https://localhost:8080/"
        },
        "id": "B1nc2dRVIi3X",
        "outputId": "5326b7cf-58ae-4dd4-828b-d2b2ecfe5b36"
      },
      "execution_count": null,
      "outputs": [
        {
          "output_type": "stream",
          "name": "stdout",
          "text": [
            "입력하여 주세요...123\n",
            "<class 'str'>\n"
          ]
        }
      ]
    },
    {
      "cell_type": "markdown",
      "source": [
        "- 항변환을 해준다.\n",
        "- 문자열,정수,실수 등"
      ],
      "metadata": {
        "id": "YukYlGw_IptZ"
      }
    },
    {
      "cell_type": "code",
      "source": [
        "print(type(1))\n",
        "var = int(\"1\") #문자열 앞에 int를 써주면 숫자형으로 바뀐다\n",
        "print(type(var))"
      ],
      "metadata": {
        "colab": {
          "base_uri": "https://localhost:8080/"
        },
        "id": "dfKnvolsIvta",
        "outputId": "c10cc140-714c-4ab0-fb1b-3106496ff287"
      },
      "execution_count": null,
      "outputs": [
        {
          "output_type": "stream",
          "name": "stdout",
          "text": [
            "<class 'int'>\n",
            "<class 'int'>\n"
          ]
        }
      ]
    },
    {
      "cell_type": "code",
      "source": [
        "var = int(input(\"숫자를 입력하여 주세요\"))\n",
        "print(type(var))"
      ],
      "metadata": {
        "colab": {
          "base_uri": "https://localhost:8080/"
        },
        "id": "7R0zEeqAI9nA",
        "outputId": "2b92ce31-e3b8-4348-da1d-f1284ba3180e"
      },
      "execution_count": null,
      "outputs": [
        {
          "output_type": "stream",
          "name": "stdout",
          "text": [
            "숫자를 입력하여 주세요1\n",
            "<class 'int'>\n"
          ]
        }
      ]
    },
    {
      "cell_type": "code",
      "source": [
        "num1 = int(input(\"숫자를 입력하여 주세요\"))\n",
        "num2 = int(input(\"숫자를 입력하여 주세요\"))\n",
        "num3 = int(input(\"숫자를 입력하여 주세요\"))\n",
        "num4 = int(input(\"숫자를 입력하여 주세요\"))\n",
        "\n",
        "var1 = num1 >= num2 #True\n",
        "var2 = num3 < num4 #True\n",
        "print(var1 and var2)\n",
        "print(var1 or var2)"
      ],
      "metadata": {
        "colab": {
          "base_uri": "https://localhost:8080/"
        },
        "id": "VXti32THJKVt",
        "outputId": "6256cc95-7867-4ed7-d1c4-ef7c1c24b290"
      },
      "execution_count": null,
      "outputs": [
        {
          "output_type": "stream",
          "name": "stdout",
          "text": [
            "숫자를 입력하여 주세요5\n",
            "숫자를 입력하여 주세요2\n",
            "숫자를 입력하여 주세요3\n",
            "숫자를 입력하여 주세요4\n",
            "True\n",
            "True\n"
          ]
        }
      ]
    },
    {
      "cell_type": "markdown",
      "source": [
        "# 변수 (Non Scalar)\n",
        "- 문자열을 입력"
      ],
      "metadata": {
        "id": "t-89sGx0QDhM"
      }
    },
    {
      "cell_type": "code",
      "source": [
        "print(\"'Hello, World'\")\n",
        "print('\"Hello, World\"')"
      ],
      "metadata": {
        "colab": {
          "base_uri": "https://localhost:8080/"
        },
        "id": "u6Uacn8QQKMV",
        "outputId": "ac26b754-89ac-41ab-d681-abe94a3573e2"
      },
      "execution_count": null,
      "outputs": [
        {
          "output_type": "stream",
          "name": "stdout",
          "text": [
            "'Hello, World'\n",
            "\"Hello, World\"\n"
          ]
        }
      ]
    },
    {
      "cell_type": "code",
      "source": [
        "print('Hello World')"
      ],
      "metadata": {
        "colab": {
          "base_uri": "https://localhost:8080/"
        },
        "id": "q9fFahnbQWVg",
        "outputId": "bf13293a-79af-45c8-e659-f8298808fb7d"
      },
      "execution_count": null,
      "outputs": [
        {
          "output_type": "stream",
          "name": "stdout",
          "text": [
            "Hello World\n"
          ]
        }
      ]
    },
    {
      "cell_type": "markdown",
      "source": [
        "## String 연산자\n",
        "- 덧셈 연산자를 써보자\n",
        "- print(str1 + str2 + num1) #문자열과 숫자열 함께 사용x"
      ],
      "metadata": {
        "id": "188dslNmQwBO"
      }
    },
    {
      "cell_type": "code",
      "source": [
        "str1 = \"Hello \"\n",
        "str2 = \"World! \"\n",
        "num1 = 1\n",
        "print(str1 + str2)"
      ],
      "metadata": {
        "colab": {
          "base_uri": "https://localhost:8080/"
        },
        "id": "pq1Y8D13Q_Ng",
        "outputId": "6bff191e-03ea-4e2c-cdee-496800b89601"
      },
      "execution_count": null,
      "outputs": [
        {
          "output_type": "stream",
          "name": "stdout",
          "text": [
            "Hello World! \n"
          ]
        }
      ]
    },
    {
      "cell_type": "markdown",
      "source": [
        "- 곱셈 연산자를 사용해본다."
      ],
      "metadata": {
        "id": "GxNgWZj7RTNy"
      }
    },
    {
      "cell_type": "code",
      "source": [
        "greeting = str1 + str2\n",
        "print(greeting * 3)"
      ],
      "metadata": {
        "colab": {
          "base_uri": "https://localhost:8080/"
        },
        "id": "-SW1-JcCRXnF",
        "outputId": "2f6085ac-88d8-4a8e-f99b-ce24208a057c"
      },
      "execution_count": null,
      "outputs": [
        {
          "output_type": "stream",
          "name": "stdout",
          "text": [
            "Hello World! Hello World! Hello World! \n"
          ]
        }
      ]
    },
    {
      "cell_type": "markdown",
      "source": [
        "## Indexing\n",
        "- 문자열 인덱싱은 각각의 문자열 안에서 범위를 지정하여 특정 문자를 추출한다.\n",
        "-H부터 0,1,2,3,4,5,6번째(공백도 세야 함)"
      ],
      "metadata": {
        "id": "GzAeI0AFRoVS"
      }
    },
    {
      "cell_type": "code",
      "source": [
        "greeting = \"Hello Kaggle!\"\n",
        "print(greeting[6])"
      ],
      "metadata": {
        "colab": {
          "base_uri": "https://localhost:8080/"
        },
        "id": "2tX_b-UjRwpX",
        "outputId": "668d72be-6c98-44a3-8b0f-59e0c7897ae8"
      },
      "execution_count": null,
      "outputs": [
        {
          "output_type": "stream",
          "name": "stdout",
          "text": [
            "K\n"
          ]
        }
      ]
    },
    {
      "cell_type": "code",
      "source": [
        "# 슬라이싱\n",
        "- 범위를 지정하고 데이터를 가져온다."
      ],
      "metadata": {
        "id": "HjiXWtRjSOzl"
      },
      "execution_count": null,
      "outputs": []
    },
    {
      "cell_type": "code",
      "source": [
        "greeting \n",
        "\n",
        "print(greeting[:])\n",
        "print(greeting[6:]) #print(greeting[시작인덱스:끝인덱스])\n",
        "print(greeting[:6])\n",
        "print(greeting[3:8]) #끝인덱스의 -1만큼만 추출됨\n",
        "print(greeting[0:9:2]) #2칸 뛰고"
      ],
      "metadata": {
        "colab": {
          "base_uri": "https://localhost:8080/"
        },
        "id": "Cs7FwXeSSjHM",
        "outputId": "1e04141f-9a8b-48c3-9317-391f2cd9985a"
      },
      "execution_count": null,
      "outputs": [
        {
          "output_type": "stream",
          "name": "stdout",
          "text": [
            "Hello Kaggle!\n",
            "Kaggle!\n",
            "Hello \n",
            "lo Ka\n",
            "HloKg\n"
          ]
        }
      ]
    },
    {
      "cell_type": "code",
      "source": [
        "greeting[13]"
      ],
      "metadata": {
        "colab": {
          "base_uri": "https://localhost:8080/",
          "height": 176
        },
        "id": "UA885CMPTvJ1",
        "outputId": "dd4a4f2f-d452-49ce-b6f1-8229da44d6d1"
      },
      "execution_count": null,
      "outputs": [
        {
          "output_type": "error",
          "ename": "IndexError",
          "evalue": "ignored",
          "traceback": [
            "\u001b[0;31m---------------------------------------------------------------------------\u001b[0m",
            "\u001b[0;31mIndexError\u001b[0m                                Traceback (most recent call last)",
            "\u001b[0;32m<ipython-input-54-ff3909a635f6>\u001b[0m in \u001b[0;36m<module>\u001b[0;34m()\u001b[0m\n\u001b[0;32m----> 1\u001b[0;31m \u001b[0mgreeting\u001b[0m\u001b[0;34m[\u001b[0m\u001b[0;36m13\u001b[0m\u001b[0;34m]\u001b[0m\u001b[0;34m\u001b[0m\u001b[0;34m\u001b[0m\u001b[0m\n\u001b[0m",
            "\u001b[0;31mIndexError\u001b[0m: string index out of range"
          ]
        }
      ]
    },
    {
      "cell_type": "markdown",
      "source": [
        "# 리스트\n",
        "- 시퀀스 데이터 타입\n",
        "- 데이터에 순서가 존재하냐! 슬라이싱이 가능해야 함\n",
        "- 대괄호('[값1,값2,값3]')"
      ],
      "metadata": {
        "id": "08dvmxdE1IVe"
      }
    },
    {
      "cell_type": "code",
      "source": [
        "a = [] #빈 리스트\n",
        "a_func = list() #빈 리스트 생성\n",
        "b = [1] #숫자가 요소가 될 수 있다.\n",
        "c = ['apple'] #문자열도 요소가 될 수 있다.\n",
        "d = [1, 2, ['apple']] #리스트 안에 또 다른 리스트를 요소로 넣을 수 있다.\n",
        "\n",
        "print(a)\n",
        "print(a_func)\n",
        "print(b)\n",
        "print(c)\n",
        "print(d)\n",
        "\n",
        "print(type(d))"
      ],
      "metadata": {
        "colab": {
          "base_uri": "https://localhost:8080/"
        },
        "id": "rIIeXyFQ1VEB",
        "outputId": "6cd4bcec-6021-4abb-ea76-b587cf364d76"
      },
      "execution_count": null,
      "outputs": [
        {
          "output_type": "stream",
          "name": "stdout",
          "text": [
            "[]\n",
            "[]\n",
            "[1]\n",
            "['apple']\n",
            "[1, 2, ['apple']]\n",
            "<class 'list'>\n"
          ]
        }
      ]
    },
    {
      "cell_type": "markdown",
      "source": [
        "# 리스트 슬라이싱"
      ],
      "metadata": {
        "id": "2Gbui1hS2Bq_"
      }
    },
    {
      "cell_type": "code",
      "source": [
        "a = [1, 2, 3, 4, 5, 6, 7, 8, 9, 10]\n",
        "print(a)\n",
        "print(a[3])\n",
        "print(a[6:])\n",
        "print(a[:5])\n",
        "print(a[3:5])\n",
        "print(a[1:9:2])"
      ],
      "metadata": {
        "colab": {
          "base_uri": "https://localhost:8080/"
        },
        "id": "J1FKs9Gz2HYU",
        "outputId": "6121bc54-363f-4b32-91be-1479c73cc814"
      },
      "execution_count": null,
      "outputs": [
        {
          "output_type": "stream",
          "name": "stdout",
          "text": [
            "[1, 2, 3, 4, 5, 6, 7, 8, 9, 10]\n",
            "4\n",
            "[7, 8, 9, 10]\n",
            "[1, 2, 3, 4, 5]\n",
            "[4, 5]\n",
            "[2, 4, 6, 8]\n"
          ]
        }
      ]
    },
    {
      "cell_type": "code",
      "source": [
        "a = [[\"apple\", \"banana\", \"cherry\"], 1]\n",
        "print(a[0])\n",
        "print(a[1])\n",
        "print(a[0][2])\n",
        "print(a[0][0][4])\n",
        "print(a[0][2][2])\n",
        "print(a[0][2][-4])"
      ],
      "metadata": {
        "colab": {
          "base_uri": "https://localhost:8080/"
        },
        "id": "jDmSMt6j2yLF",
        "outputId": "298d607a-2c50-49bc-cced-2c6cf456ffc3"
      },
      "execution_count": null,
      "outputs": [
        {
          "output_type": "stream",
          "name": "stdout",
          "text": [
            "['apple', 'banana', 'cherry']\n",
            "1\n",
            "cherry\n",
            "e\n",
            "e\n",
            "e\n"
          ]
        }
      ]
    },
    {
      "cell_type": "code",
      "source": [
        "a = [1, 2, 3, 4, 5, 6, 7, 8, 9, 10]\n",
        "# print(a)\n",
        "print(a[::-1]) #역순\n",
        "print(a[::2])"
      ],
      "metadata": {
        "colab": {
          "base_uri": "https://localhost:8080/"
        },
        "id": "TkD2s5F_4d_8",
        "outputId": "6775fec8-2e3c-4235-fcfb-0eb455887ad4"
      },
      "execution_count": null,
      "outputs": [
        {
          "output_type": "stream",
          "name": "stdout",
          "text": [
            "[10, 9, 8, 7, 6, 5, 4, 3, 2, 1]\n",
            "[1, 3, 5, 7, 9]\n"
          ]
        }
      ]
    },
    {
      "cell_type": "markdown",
      "source": [
        "## 리스트 연산자"
      ],
      "metadata": {
        "id": "tlxTFPZG4rat"
      }
    },
    {
      "cell_type": "code",
      "source": [
        "a = [\"seyeon\",\"mihyung\"]\n",
        "b = [\"jinwoo\",\"seongho\"]\n",
        "\n",
        "c = a + b\n",
        "print(c)"
      ],
      "metadata": {
        "colab": {
          "base_uri": "https://localhost:8080/"
        },
        "id": "QLkEPZpJ4y8T",
        "outputId": "d34624f9-2e62-4b1b-bb12-9ca2d2173129"
      },
      "execution_count": null,
      "outputs": [
        {
          "output_type": "stream",
          "name": "stdout",
          "text": [
            "['seyeon', 'mihyung', 'jinwoo', 'seongho']\n"
          ]
        }
      ]
    },
    {
      "cell_type": "code",
      "source": [
        "c = a * 3\n",
        "d = b * 0\n",
        "print(\"a * 3 = \", c)\n",
        "print(\"b * 0 = \", d)"
      ],
      "metadata": {
        "colab": {
          "base_uri": "https://localhost:8080/"
        },
        "id": "8ARiTTib5ONV",
        "outputId": "88bf93f6-827f-448f-c26a-36bd2c568705"
      },
      "execution_count": null,
      "outputs": [
        {
          "output_type": "stream",
          "name": "stdout",
          "text": [
            "a * 3 =  ['seyeon', 'mihyung', 'seyeon', 'mihyung', 'seyeon', 'mihyung']\n",
            "b * 0 =  []\n"
          ]
        }
      ]
    },
    {
      "cell_type": "markdown",
      "source": [
        "# 리스트 수정 및 삭제"
      ],
      "metadata": {
        "id": "d1Zl3Icc5qjW"
      }
    },
    {
      "cell_type": "code",
      "source": [
        "a = [0, 1, 2]\n",
        "a[1] = \"b\"\n",
        "print(a) #객체 저장"
      ],
      "metadata": {
        "colab": {
          "base_uri": "https://localhost:8080/"
        },
        "id": "XTLfhmzG5t9x",
        "outputId": "7b0eefcd-2253-40c9-a35a-60ff3ecb4384"
      },
      "execution_count": null,
      "outputs": [
        {
          "output_type": "stream",
          "name": "stdout",
          "text": [
            "[0, 'b', 2]\n"
          ]
        }
      ]
    },
    {
      "cell_type": "markdown",
      "source": [
        "### 리스트 값 추가하기"
      ],
      "metadata": {
        "id": "2MytVEhG6TBs"
      }
    },
    {
      "cell_type": "code",
      "source": [
        "a = [100, 200, 300]\n",
        "a.append(400)\n",
        "print(a) #자동 저장\n",
        "\n",
        "a.append([500, 600])\n",
        "print(a)"
      ],
      "metadata": {
        "colab": {
          "base_uri": "https://localhost:8080/"
        },
        "id": "MdKjVQKo6Xz_",
        "outputId": "7e1349fc-54ab-433c-b07a-33b656ed17e9"
      },
      "execution_count": null,
      "outputs": [
        {
          "output_type": "stream",
          "name": "stdout",
          "text": [
            "[100, 200, 300, 400]\n",
            "[100, 200, 300, 400, [500, 600]]\n"
          ]
        }
      ]
    },
    {
      "cell_type": "code",
      "source": [
        "a = [100, 200, 300]\n",
        "a.append(400)\n",
        "print(a) #자동 저장\n",
        "\n",
        "a.extend([500, 600])\n",
        "print(a)"
      ],
      "metadata": {
        "colab": {
          "base_uri": "https://localhost:8080/"
        },
        "id": "o-VyHwqs7beh",
        "outputId": "e546a9ef-7a7d-4344-873b-08d6e966d5f8"
      },
      "execution_count": null,
      "outputs": [
        {
          "output_type": "stream",
          "name": "stdout",
          "text": [
            "[100, 200, 300, 400]\n",
            "[100, 200, 300, 400, 500, 600]\n"
          ]
        }
      ]
    },
    {
      "cell_type": "code",
      "source": [
        "a = [0, 1, 2]\n",
        "#a.insert(인덱스 번호, 넣고자 하는 값)\n",
        "a.insert(1, 100)\n",
        "print(a)"
      ],
      "metadata": {
        "colab": {
          "base_uri": "https://localhost:8080/"
        },
        "id": "yrJPjXOF7nL4",
        "outputId": "6ba3a2cc-8af4-4e45-ebaa-861e4cc069f0"
      },
      "execution_count": null,
      "outputs": [
        {
          "output_type": "stream",
          "name": "stdout",
          "text": [
            "[0, 100, 1, 2]\n"
          ]
        }
      ]
    },
    {
      "cell_type": "markdown",
      "source": [
        "# 리스트 값 삭제하기"
      ],
      "metadata": {
        "id": "KW9XYxzR78wr"
      }
    },
    {
      "cell_type": "code",
      "source": [
        "a = [4, 3, 2, 1,\"A\"]\n",
        "a.remove(1) #리스트 안에 있는 값을 삭제\n",
        "print(a)\n",
        "a.remove(\"A\")\n",
        "print(a)"
      ],
      "metadata": {
        "colab": {
          "base_uri": "https://localhost:8080/"
        },
        "id": "srSJBabQ7-3L",
        "outputId": "bed97216-b42a-4cac-dc2d-2fcca8b9252e"
      },
      "execution_count": null,
      "outputs": [
        {
          "output_type": "stream",
          "name": "stdout",
          "text": [
            "[4, 3, 2, 'A']\n",
            "[4, 3, 2]\n"
          ]
        }
      ]
    },
    {
      "cell_type": "code",
      "source": [
        "a = [1, 2, 3, 4, 5, 6, 7, 8, 9, 10]\n",
        "\n",
        "del a[1] #인덱스 번호\n",
        "print(a)\n",
        "\n",
        "del a[1:5]\n",
        "print(a)"
      ],
      "metadata": {
        "colab": {
          "base_uri": "https://localhost:8080/"
        },
        "id": "UoUCLdN_8Zpn",
        "outputId": "b38ebb37-1e7f-435e-8ba4-55ade2792cc5"
      },
      "execution_count": null,
      "outputs": [
        {
          "output_type": "stream",
          "name": "stdout",
          "text": [
            "[1, 3, 4, 5, 6, 7, 8, 9, 10]\n",
            "[1, 7, 8, 9, 10]\n"
          ]
        }
      ]
    },
    {
      "cell_type": "code",
      "source": [
        "b = [\"a\", \"b\", \"c\", \"d\"]\n",
        "x = b.pop() #인덱스를 지정하지 않으면 마지막 숫자/기호 삭제\n",
        "print(x)\n",
        "print(b)"
      ],
      "metadata": {
        "colab": {
          "base_uri": "https://localhost:8080/"
        },
        "id": "THhZkVuO8teI",
        "outputId": "2ee6c151-5206-4bde-db4c-b9914d524509"
      },
      "execution_count": null,
      "outputs": [
        {
          "output_type": "stream",
          "name": "stdout",
          "text": [
            "d\n",
            "['a', 'b', 'c']\n"
          ]
        }
      ]
    },
    {
      "cell_type": "markdown",
      "source": [
        "## 그 외 메서드"
      ],
      "metadata": {
        "id": "5iJtQkuy9NCu"
      }
    },
    {
      "cell_type": "code",
      "source": [
        "a = [0, 1, 2, 3]\n",
        "print(a)\n",
        "\n",
        "a.clear()\n",
        "print(a)"
      ],
      "metadata": {
        "colab": {
          "base_uri": "https://localhost:8080/"
        },
        "id": "eHalrBK19PE4",
        "outputId": "419565e6-7c27-4d04-ae2b-e0e8dd6f8b1c"
      },
      "execution_count": null,
      "outputs": [
        {
          "output_type": "stream",
          "name": "stdout",
          "text": [
            "[0, 1, 2, 3]\n",
            "[]\n"
          ]
        }
      ]
    },
    {
      "cell_type": "code",
      "source": [
        "a = [1, \"a\", \"a\", \"b\", \"b\"]\n",
        "print(a.index(\"b\")) #b가 언제 등장하는지\n",
        "print(a.index(\"a\"))"
      ],
      "metadata": {
        "colab": {
          "base_uri": "https://localhost:8080/"
        },
        "id": "VzJF3Q8L9WWg",
        "outputId": "ad5e5cc2-5478-4aa8-f330-dfc19bfe7dae"
      },
      "execution_count": null,
      "outputs": [
        {
          "output_type": "stream",
          "name": "stdout",
          "text": [
            "3\n",
            "1\n"
          ]
        }
      ]
    },
    {
      "cell_type": "code",
      "source": [
        "a = [1, 4, 5, 2, 3]\n",
        "b = [1, 4, 5, 2, 3]\n",
        "\n",
        "a.sort()\n",
        "print(\"sort(): \",a) #올림차순\n",
        "\n",
        "#내림차순, sort()\n",
        "b.sort(reverse=True)\n",
        "print(\"sort(reverse=True): \", b)"
      ],
      "metadata": {
        "colab": {
          "base_uri": "https://localhost:8080/"
        },
        "id": "NpDRtuswCd8I",
        "outputId": "9629c7e2-0abb-4914-89ca-8c55a56549ec"
      },
      "execution_count": null,
      "outputs": [
        {
          "output_type": "stream",
          "name": "stdout",
          "text": [
            "sort():  [1, 2, 3, 4, 5]\n",
            "sort(reverse=True):  [5, 4, 3, 2, 1]\n"
          ]
        }
      ]
    },
    {
      "cell_type": "code",
      "source": [
        "c = [4, 3, 2, 'a']\n",
        "c.sort() #숫자와 알파벳 중 크기를 정할 수 없음"
      ],
      "metadata": {
        "colab": {
          "base_uri": "https://localhost:8080/",
          "height": 195
        },
        "id": "wgVPTDGQDYW0",
        "outputId": "cdd5308b-dc61-4eba-c559-6e717b83770f"
      },
      "execution_count": null,
      "outputs": [
        {
          "output_type": "error",
          "ename": "TypeError",
          "evalue": "ignored",
          "traceback": [
            "\u001b[0;31m---------------------------------------------------------------------------\u001b[0m",
            "\u001b[0;31mTypeError\u001b[0m                                 Traceback (most recent call last)",
            "\u001b[0;32m<ipython-input-44-9fc5b5da7505>\u001b[0m in \u001b[0;36m<module>\u001b[0;34m()\u001b[0m\n\u001b[1;32m      1\u001b[0m \u001b[0mc\u001b[0m \u001b[0;34m=\u001b[0m \u001b[0;34m[\u001b[0m\u001b[0;36m4\u001b[0m\u001b[0;34m,\u001b[0m \u001b[0;36m3\u001b[0m\u001b[0;34m,\u001b[0m \u001b[0;36m2\u001b[0m\u001b[0;34m,\u001b[0m \u001b[0;34m'a'\u001b[0m\u001b[0;34m]\u001b[0m\u001b[0;34m\u001b[0m\u001b[0;34m\u001b[0m\u001b[0m\n\u001b[0;32m----> 2\u001b[0;31m \u001b[0mc\u001b[0m\u001b[0;34m.\u001b[0m\u001b[0msort\u001b[0m\u001b[0;34m(\u001b[0m\u001b[0;34m)\u001b[0m\u001b[0;34m\u001b[0m\u001b[0;34m\u001b[0m\u001b[0m\n\u001b[0m",
            "\u001b[0;31mTypeError\u001b[0m: '<' not supported between instances of 'str' and 'int'"
          ]
        }
      ]
    },
    {
      "cell_type": "markdown",
      "source": [
        "# 튜플\n",
        "- List와 비슷하다.\n",
        "- 슬라이싱, 인덱싱 등등\n",
        "- 차이점은(vs 리스트) : 튜플은 수정, 삭제가 안된다."
      ],
      "metadata": {
        "id": "7oRdLOa6DvmG"
      }
    },
    {
      "cell_type": "code",
      "source": [
        ""
      ],
      "metadata": {
        "id": "aX3KwnUwDxNp"
      },
      "execution_count": null,
      "outputs": []
    },
    {
      "cell_type": "code",
      "source": [
        "tuple1 = (0) #끝에 콤마(,)를 붙이지 않을 때 --> int\n",
        "tuple2 = (0,) #끝에 콤마 붙일 때 --> tuple\n",
        "tuple3 = 0, 1, 2\n",
        "print(tuple1)\n",
        "print(tuple2)\n",
        "print(tuple3)\n",
        "print(type(tuple1))\n",
        "print(type(tuple2))\n",
        "print(type(tuple3))"
      ],
      "metadata": {
        "colab": {
          "base_uri": "https://localhost:8080/"
        },
        "id": "uEJMQ1VREJYW",
        "outputId": "0b1e88d9-c2bc-47b1-80b7-2a5426cff13f"
      },
      "execution_count": null,
      "outputs": [
        {
          "output_type": "stream",
          "name": "stdout",
          "text": [
            "0\n",
            "(0,)\n",
            "(0, 1, 2)\n",
            "<class 'int'>\n",
            "<class 'tuple'>\n",
            "<class 'tuple'>\n"
          ]
        }
      ]
    },
    {
      "cell_type": "code",
      "source": [
        "a = (0, 1, 2, 3, 'a')\n",
        "print(type(a))\n",
        "\n",
        "b= list(a)\n",
        "print(b)\n",
        "b[1] = \"b\"\n",
        "\n",
        "a = tuple(b)\n",
        "print(a)\n",
        "#del a[4] #error = tuple은 수정,삭제가 안된다"
      ],
      "metadata": {
        "colab": {
          "base_uri": "https://localhost:8080/"
        },
        "id": "cxkN874YEtCe",
        "outputId": "6f25d9d5-b656-4459-d52f-cc5389590d60"
      },
      "execution_count": null,
      "outputs": [
        {
          "output_type": "stream",
          "name": "stdout",
          "text": [
            "<class 'tuple'>\n",
            "[0, 1, 2, 3, 'a']\n",
            "(0, 'b', 2, 3, 'a')\n"
          ]
        }
      ]
    },
    {
      "cell_type": "markdown",
      "source": [
        "#튜플 인덱싱 및 슬라이싱 하기"
      ],
      "metadata": {
        "id": "5-DgTt_aFxoH"
      }
    },
    {
      "cell_type": "code",
      "source": [
        "a = (0, 1, 2, 3, 'a')\n",
        "print(a[1])\n",
        "print(a[3])\n",
        "print(a[4])"
      ],
      "metadata": {
        "colab": {
          "base_uri": "https://localhost:8080/"
        },
        "id": "GVsLReoUF1K9",
        "outputId": "962c6b9b-2e6f-43e9-f565-b1a38e3e25ba"
      },
      "execution_count": null,
      "outputs": [
        {
          "output_type": "stream",
          "name": "stdout",
          "text": [
            "1\n",
            "3\n",
            "a\n"
          ]
        }
      ]
    },
    {
      "cell_type": "markdown",
      "source": [
        "## 더하기 곱셈 연산자 사용"
      ],
      "metadata": {
        "id": "uWI3LheLF_x3"
      }
    },
    {
      "cell_type": "code",
      "source": [
        "t1 = (1, 2, 3)\n",
        "t2 = (4, 5, 6)\n",
        "\n",
        "print(t1 + t2)\n",
        "print(t1 * 3)\n",
        "print(t1 * 0)"
      ],
      "metadata": {
        "colab": {
          "base_uri": "https://localhost:8080/"
        },
        "id": "20Fz5yDjGQLu",
        "outputId": "e847c067-0946-4605-9a54-5a44e45249d6"
      },
      "execution_count": null,
      "outputs": [
        {
          "output_type": "stream",
          "name": "stdout",
          "text": [
            "(1, 2, 3, 4, 5, 6)\n",
            "(1, 2, 3, 1, 2, 3, 1, 2, 3)\n",
            "()\n"
          ]
        }
      ]
    },
    {
      "cell_type": "markdown",
      "source": [
        "#딕셔너리\n",
        "- key-value 값으로 나뉨."
      ],
      "metadata": {
        "id": "j2p_vb38HGVU"
      }
    },
    {
      "cell_type": "code",
      "source": [
        "dict_01 = {'teacher' : 'seyeon',\n",
        "           'class' : 601,\n",
        "           'students' : 24,\n",
        "           '학생이름' : ['A', 'Z']}\n",
        "print(dict_01)\n",
        "print(dict_01['teacher'])\n",
        "print(dict_01['class'])\n",
        "print(dict_01['학생이름'])"
      ],
      "metadata": {
        "colab": {
          "base_uri": "https://localhost:8080/"
        },
        "id": "rmMTsr38IDc6",
        "outputId": "8e961acd-c155-453c-a35c-ef5f13cc1ccb"
      },
      "execution_count": null,
      "outputs": [
        {
          "output_type": "stream",
          "name": "stdout",
          "text": [
            "{'teacher': 'seyeon', 'class': 601, 'students': 24, '학생이름': ['A', 'Z']}\n",
            "seyeon\n",
            "601\n",
            "['A', 'Z']\n"
          ]
        }
      ]
    },
    {
      "cell_type": "code",
      "source": [
        "print(type(dict_01.keys()))\n",
        "print(list(dict_01.keys()))\n",
        "print(dict_01.keys())"
      ],
      "metadata": {
        "colab": {
          "base_uri": "https://localhost:8080/"
        },
        "id": "oxVtnZtmJCaK",
        "outputId": "fc674ad2-3f12-4913-9397-6376be5a55c2"
      },
      "execution_count": null,
      "outputs": [
        {
          "output_type": "stream",
          "name": "stdout",
          "text": [
            "<class 'dict_keys'>\n",
            "['teacher', 'class', 'students', '학생이름']\n",
            "dict_keys(['teacher', 'class', 'students', '학생이름'])\n"
          ]
        }
      ]
    },
    {
      "cell_type": "code",
      "source": [
        "print(dict_01.values())"
      ],
      "metadata": {
        "colab": {
          "base_uri": "https://localhost:8080/"
        },
        "id": "FqIiZ4GxJ-ym",
        "outputId": "ef7429c8-a1e0-4f8e-c340-68040ffb318a"
      },
      "execution_count": null,
      "outputs": [
        {
          "output_type": "stream",
          "name": "stdout",
          "text": [
            "dict_values(['seyeon', 601, 24, ['A', 'Z']])\n"
          ]
        }
      ]
    },
    {
      "cell_type": "code",
      "source": [
        "dict_01.items()"
      ],
      "metadata": {
        "colab": {
          "base_uri": "https://localhost:8080/"
        },
        "id": "5sv5jPSwKTw6",
        "outputId": "819a8438-dd68-4872-ae14-48db2ff1d672"
      },
      "execution_count": null,
      "outputs": [
        {
          "output_type": "execute_result",
          "data": {
            "text/plain": [
              "dict_items([('teacher', 'seyeon'), ('class', 601), ('students', 24), ('학생이름', ['A', 'Z'])])"
            ]
          },
          "metadata": {},
          "execution_count": 67
        }
      ]
    },
    {
      "cell_type": "code",
      "source": [
        "print(dict_01.get(\"teacher\", \"값 없음\"))\n",
        "print(dict_01.get(\"선생님\", \"갑 없음\"))\n",
        "print(dict_01.get(\"class\"))\n",
        "# print(dc_01['선생님'])"
      ],
      "metadata": {
        "colab": {
          "base_uri": "https://localhost:8080/"
        },
        "id": "807fjQTPKwaV",
        "outputId": "d0c1eeb1-d5a7-4df8-83f7-7b0eded40efc"
      },
      "execution_count": null,
      "outputs": [
        {
          "output_type": "stream",
          "name": "stdout",
          "text": [
            "seyeon\n",
            "None\n",
            "601\n"
          ]
        }
      ]
    },
    {
      "cell_type": "markdown",
      "source": [
        "# 조건문 $ 반복문"
      ],
      "metadata": {
        "id": "P7RrJUPiQhuY"
      }
    },
    {
      "cell_type": "markdown",
      "source": [
        "##조건문"
      ],
      "metadata": {
        "id": "JF1rkyl8VZWJ"
      }
    },
    {
      "cell_type": "code",
      "source": [
        "#날씨가 맑다 --> 우산을 안 가져간다.\n",
        "#날씨가 흐리다 --> 우산을 챙긴다.\n",
        "\n",
        "weather = \"맑음\"\n",
        "if weather == \"비\" : #조건식 True가 나오면\n",
        "  print(\"우산을 가져간다.\")\n",
        "else:\n",
        "    print(\"우산을 가져가지 않는다.\")"
      ],
      "metadata": {
        "id": "2yhYV6YVQnKD",
        "colab": {
          "base_uri": "https://localhost:8080/"
        },
        "outputId": "923e7022-ca39-4ce2-f205-e9d73a9634d0"
      },
      "execution_count": null,
      "outputs": [
        {
          "output_type": "stream",
          "name": "stdout",
          "text": [
            "우산을 가져가지 않는다.\n"
          ]
        }
      ]
    },
    {
      "cell_type": "markdown",
      "source": [
        "- 등급표 만들기\n",
        "- 60점 이상 합격/ 불합격\n",
        "- 숫자는 아무거나 써도 상관없음"
      ],
      "metadata": {
        "id": "UWtMALJpSVge"
      }
    },
    {
      "cell_type": "markdown",
      "source": [
        ""
      ],
      "metadata": {
        "id": "XwwLK2csSShR"
      }
    },
    {
      "cell_type": "code",
      "source": [
        "score = 70\n",
        "\n",
        "if score >= 60 :\n",
        "  print(\"합격\")\n",
        "else: \n",
        "  print(\"불합격\")"
      ],
      "metadata": {
        "id": "_psT2v9EUMHV",
        "colab": {
          "base_uri": "https://localhost:8080/"
        },
        "outputId": "689f38a7-8bf6-4cc6-d434-9ca368909fca"
      },
      "execution_count": null,
      "outputs": [
        {
          "output_type": "stream",
          "name": "stdout",
          "text": [
            "합격\n"
          ]
        }
      ]
    },
    {
      "cell_type": "code",
      "source": [
        "score = int(input(\"숫자를 입력하여 주세요...\"))\n",
        "\n",
        "if score >= 60 :\n",
        "  print(\"합격\")\n",
        "else: \n",
        "  print(\"불합격\")"
      ],
      "metadata": {
        "id": "9XN30Y1HUPkC",
        "colab": {
          "base_uri": "https://localhost:8080/"
        },
        "outputId": "54732bac-f9b7-4070-8650-2c0717b20acc"
      },
      "execution_count": null,
      "outputs": [
        {
          "output_type": "stream",
          "name": "stdout",
          "text": [
            "숫자를 입력하여 주세요...20\n",
            "불합격\n"
          ]
        }
      ]
    },
    {
      "cell_type": "code",
      "source": [
        "#90점 이상은 A등급\n",
        "#80점 이상은 B등급\n",
        "#나머지는 F등급\n",
        "#if-elif-else\n",
        "\n",
        "score = int(input(\"숫자를 입력하여 주세요..\"))\n",
        "if score >= 90 :\n",
        "  print(\"A등급\")\n",
        "elif score >= 80 :\n",
        "  print(\"B등급\")\n",
        "else:\n",
        "  print(\"F등급\")"
      ],
      "metadata": {
        "id": "aPJ5uym2UdmJ",
        "colab": {
          "base_uri": "https://localhost:8080/"
        },
        "outputId": "7699e68d-6c58-4517-b13f-52c34a4d79f1"
      },
      "execution_count": null,
      "outputs": [
        {
          "output_type": "stream",
          "name": "stdout",
          "text": [
            "숫자를 입력하여 주세요..30\n",
            "F등급\n"
          ]
        }
      ]
    },
    {
      "cell_type": "markdown",
      "source": [
        "##반복문"
      ],
      "metadata": {
        "id": "oWXfn0kDVbqa"
      }
    },
    {
      "cell_type": "code",
      "source": [
        "for i in range(3):\n",
        "  print(i + 1, \"안녕하세요!\")"
      ],
      "metadata": {
        "id": "ozkJIwJSVeBP",
        "colab": {
          "base_uri": "https://localhost:8080/"
        },
        "outputId": "18280ecb-95c7-42e9-ed99-a98586033987"
      },
      "execution_count": null,
      "outputs": [
        {
          "output_type": "stream",
          "name": "stdout",
          "text": [
            "1 안녕하세요!\n",
            "2 안녕하세요!\n",
            "3 안녕하세요!\n"
          ]
        }
      ]
    },
    {
      "cell_type": "code",
      "source": [
        "count = range(3)\n",
        "print(count)\n",
        "\n",
        "for n in count:\n",
        "  print(str(n + 1) + \"번째\")\n",
        "if (n + 1) == 5:\n",
        "  print(\"그만합시다!!\")\n",
        "   break\n",
        "\n",
        "  print(\"축구 슈팅\")\n"
      ],
      "metadata": {
        "colab": {
          "base_uri": "https://localhost:8080/",
          "height": 139
        },
        "id": "KR6ciUzSXU0b",
        "outputId": "659bf094-9383-4d6b-974a-3faf3fde7e88"
      },
      "execution_count": null,
      "outputs": [
        {
          "output_type": "error",
          "ename": "IndentationError",
          "evalue": "ignored",
          "traceback": [
            "\u001b[0;36m  File \u001b[0;32m\"<ipython-input-29-6dbb4a0d79cf>\"\u001b[0;36m, line \u001b[0;32m8\u001b[0m\n\u001b[0;31m    break\u001b[0m\n\u001b[0m    ^\u001b[0m\n\u001b[0;31mIndentationError\u001b[0m\u001b[0;31m:\u001b[0m unexpected indent\n"
          ]
        }
      ]
    },
    {
      "cell_type": "code",
      "source": [
        "a = \"hello\"\n",
        "\n",
        "for x in a:\n",
        "  if x == \"1\":\n",
        "    break\n",
        "  print(x)"
      ],
      "metadata": {
        "colab": {
          "base_uri": "https://localhost:8080/"
        },
        "id": "kA_OdsDFY0W_",
        "outputId": "acb1e00b-b42d-42e3-a8e8-f8773290e705"
      },
      "execution_count": null,
      "outputs": [
        {
          "output_type": "stream",
          "name": "stdout",
          "text": [
            "h\n",
            "e\n",
            "l\n",
            "l\n",
            "o\n"
          ]
        }
      ]
    },
    {
      "cell_type": "markdown",
      "source": [
        "- 반복문 작성 방식이 여러가지임 zip, range, enumerate, len, etc"
      ],
      "metadata": {
        "id": "JypfBT7EZwab"
      }
    },
    {
      "cell_type": "code",
      "source": [
        "alphabets = ['A', 'B', 'C']\n",
        "for index, value in enumerate(alphabets):\n",
        "  print(index, value)"
      ],
      "metadata": {
        "colab": {
          "base_uri": "https://localhost:8080/"
        },
        "id": "gOvhfW8bZP9E",
        "outputId": "355204b0-f7a5-403b-f369-8b8606b1ca8a"
      },
      "execution_count": null,
      "outputs": [
        {
          "output_type": "stream",
          "name": "stdout",
          "text": [
            "0 A\n",
            "1 B\n",
            "2 C\n"
          ]
        }
      ]
    }
  ]
}