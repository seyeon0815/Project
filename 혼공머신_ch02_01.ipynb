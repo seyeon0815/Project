{
  "nbformat": 4,
  "nbformat_minor": 0,
  "metadata": {
    "colab": {
      "name": "혼공머신 ch02_01.ipynb",
      "provenance": [],
      "authorship_tag": "ABX9TyNQLJV8PXr/7s8844SnuLc2",
      "include_colab_link": true
    },
    "kernelspec": {
      "name": "python3",
      "display_name": "Python 3"
    },
    "language_info": {
      "name": "python"
    }
  },
  "cells": [
    {
      "cell_type": "markdown",
      "metadata": {
        "id": "view-in-github",
        "colab_type": "text"
      },
      "source": [
        "<a href=\"https://colab.research.google.com/github/seyeon0815/Project/blob/main/%ED%98%BC%EA%B3%B5%EB%A8%B8%EC%8B%A0_ch02_01.ipynb\" target=\"_parent\"><img src=\"https://colab.research.google.com/assets/colab-badge.svg\" alt=\"Open In Colab\"/></a>"
      ]
    },
    {
      "cell_type": "markdown",
      "source": [
        "# 지도 학습과 비지도 학습\n",
        "- 지도학습: 경진대회 유형\n",
        "- 입력과 타깃 : 독립변수(입력). 종속변수(타깃)\n",
        "- 정답이 있는 문제\n",
        " - 1 유형 : 타이타닉 생존자 분류 : Survived (타깃)\n",
        " - 2 유형 :카페 예상 매출액 : 숫자를 예측\n",
        "- 특성(Feature) : 독립변수 (엑셀의 컬럼)\n",
        "- 비지도 학습 : 뉴스 기사 종류를 분류\n",
        " + 기사 1 : 사회, 의학,,,\n",
        " + 기사 2 : 사회, 경제,,,\n"
      ],
      "metadata": {
        "id": "fGsAwH1FKazM"
      }
    },
    {
      "cell_type": "markdown",
      "source": [
        "- 훈련 세트와 테스트 세트"
      ],
      "metadata": {
        "id": "lJauP7ejQ1nB"
      }
    },
    {
      "cell_type": "code",
      "source": [
        "fish_length = [25.4, 26.3, 26.5, 29.0, 29.0, 29.7, 29.7, 30.0, 30.0, 30.7, 31.0, 31.0, \n",
        "                31.5, 32.0, 32.0, 32.0, 33.0, 33.0, 33.5, 33.5, 34.0, 34.0, 34.5, 35.0, \n",
        "                35.0, 35.0, 35.0, 36.0, 36.0, 37.0, 38.5, 38.5, 39.5, 41.0, 41.0, 9.8, \n",
        "                10.5, 10.6, 11.0, 11.2, 11.3, 11.8, 11.8, 12.0, 12.2, 12.4, 13.0, 14.3, 15.0]\n",
        "fish_weight = [242.0, 290.0, 340.0, 363.0, 430.0, 450.0, 500.0, 390.0, 450.0, 500.0, 475.0, 500.0, \n",
        "                500.0, 340.0, 600.0, 600.0, 700.0, 700.0, 610.0, 650.0, 575.0, 685.0, 620.0, 680.0, \n",
        "                700.0, 725.0, 720.0, 714.0, 850.0, 1000.0, 920.0, 955.0, 925.0, 975.0, 950.0, 6.7, \n",
        "                7.5, 7.0, 9.7, 9.8, 8.7, 10.0, 9.9, 9.8, 12.2, 13.4, 12.2, 19.7, 19.9]"
      ],
      "metadata": {
        "id": "zYi_7F3GQ5EI"
      },
      "execution_count": null,
      "outputs": []
    },
    {
      "cell_type": "code",
      "source": [
        "fish_data = [[l,w] for l,w in zip(fish_length, fish_weight)] #[리스트 컴프리헨션 코드]\n",
        "#fish_data"
      ],
      "metadata": {
        "id": "sbJgoTD6Q-hp"
      },
      "execution_count": null,
      "outputs": []
    },
    {
      "cell_type": "code",
      "source": [
        "# 1은 도미\n",
        "# 0은 빙어\n",
        "fish_target = [1]*35 +[0]*14\n",
        "#fish target"
      ],
      "metadata": {
        "id": "6mUgLNEaSJmL"
      },
      "execution_count": null,
      "outputs": []
    },
    {
      "cell_type": "markdown",
      "source": [
        "- 머신러닝 모델"
      ],
      "metadata": {
        "id": "QUtY_f9-SYtY"
      }
    },
    {
      "cell_type": "code",
      "source": [
        "from sklearn.neighbors import KNeighborsClassifier\n",
        "kn = KNeighborsClassifier()"
      ],
      "metadata": {
        "id": "IRYj8ZgtSa16"
      },
      "execution_count": null,
      "outputs": []
    },
    {
      "cell_type": "markdown",
      "source": [
        "# 훈련세트와 테스트 세트로 분리"
      ],
      "metadata": {
        "id": "dQu-g0ELS5kq"
      }
    },
    {
      "cell_type": "code",
      "source": [
        "# 0부터 ~ 34 인덱스까지 사용\n",
        "# 훈련데이터 독립변수\n",
        "train_input = fish_data[:35]\n",
        "\n",
        "# 훈련데이터 종속변수\n",
        "train_target = fish_target[:35]\n",
        "\n",
        "# 테스트데이터 독립변수\n",
        "test_input = fish_data[35:]\n",
        "\n",
        "# 테스트데이터 종속변수 \n",
        "test_target = fish_target[35:]\n",
        "\n",
        "# train_input.shape, train_target.shape, test_input.shape, test_target.shape"
      ],
      "metadata": {
        "id": "2j-d0nbPS8wo"
      },
      "execution_count": null,
      "outputs": []
    },
    {
      "cell_type": "code",
      "source": [
        "kn = kn.fit(train_input, train_target)\n",
        "kn.score(test_input, test_target)"
      ],
      "metadata": {
        "colab": {
          "base_uri": "https://localhost:8080/"
        },
        "id": "iBva4bwjUA4y",
        "outputId": "6f1689d9-5086-4666-da05-c66f22abe61f"
      },
      "execution_count": null,
      "outputs": [
        {
          "output_type": "execute_result",
          "data": {
            "text/plain": [
              "0.0"
            ]
          },
          "metadata": {},
          "execution_count": 16
        }
      ]
    },
    {
      "cell_type": "code",
      "source": [
        "fish_data[34:]"
      ],
      "metadata": {
        "colab": {
          "base_uri": "https://localhost:8080/"
        },
        "id": "0e-uRiYDVihj",
        "outputId": "505ad45b-ee64-45f8-b347-13c759dfa1de"
      },
      "execution_count": null,
      "outputs": [
        {
          "output_type": "execute_result",
          "data": {
            "text/plain": [
              "[[41.0, 950.0],\n",
              " [9.8, 6.7],\n",
              " [10.5, 7.5],\n",
              " [10.6, 7.0],\n",
              " [11.0, 9.7],\n",
              " [11.2, 9.8],\n",
              " [11.3, 8.7],\n",
              " [11.8, 10.0],\n",
              " [11.8, 9.9],\n",
              " [12.0, 9.8],\n",
              " [12.2, 12.2],\n",
              " [12.4, 13.4],\n",
              " [13.0, 12.2],\n",
              " [14.3, 19.7],\n",
              " [15.0, 19.9]]"
            ]
          },
          "metadata": {},
          "execution_count": 19
        }
      ]
    },
    {
      "cell_type": "code",
      "source": [
        "fish_target[34:]"
      ],
      "metadata": {
        "colab": {
          "base_uri": "https://localhost:8080/"
        },
        "id": "0OvR0oKWVwDp",
        "outputId": "dc265fb2-9bdb-40d9-9728-2682eab0e7df"
      },
      "execution_count": null,
      "outputs": [
        {
          "output_type": "execute_result",
          "data": {
            "text/plain": [
              "[1, 0, 0, 0, 0, 0, 0, 0, 0, 0, 0, 0, 0, 0, 0]"
            ]
          },
          "metadata": {},
          "execution_count": 17
        }
      ]
    },
    {
      "cell_type": "markdown",
      "source": [
        "# 샘플링 편향"
      ],
      "metadata": {
        "id": "E_WT_KC2VyLY"
      }
    },
    {
      "cell_type": "markdown",
      "source": [
        "#넘파이\n",
        "- 리스트로 연산은 지원이 잘 안됨\n",
        "-리스트를 넘파이 배열로 변환"
      ],
      "metadata": {
        "id": "IX5SChNRV0L5"
      }
    },
    {
      "cell_type": "code",
      "source": [
        "#74p\n",
        "import numpy as np\n",
        "\n",
        "input_arr = np.array(fish_data)\n",
        "target_arr = np.array(fish_target)\n",
        "\n",
        "input_arr.shape, target_arr.shape"
      ],
      "metadata": {
        "colab": {
          "base_uri": "https://localhost:8080/"
        },
        "id": "8VK6DpsJV5Si",
        "outputId": "282accf3-4b0e-4544-d312-5a3aebda5264"
      },
      "execution_count": null,
      "outputs": [
        {
          "output_type": "execute_result",
          "data": {
            "text/plain": [
              "((49, 2), (49,))"
            ]
          },
          "metadata": {},
          "execution_count": 20
        }
      ]
    },
    {
      "cell_type": "markdown",
      "source": [
        "- shuffle :데이터를 섞어 준다\n",
        "- 실험 재현성"
      ],
      "metadata": {
        "id": "kBgfs4uyWW55"
      }
    },
    {
      "cell_type": "code",
      "source": [
        "#76p\n",
        "np.random.seed(42)\n",
        "index = np.arange(49)\n",
        "print(index)"
      ],
      "metadata": {
        "colab": {
          "base_uri": "https://localhost:8080/"
        },
        "id": "R6wdcaZeWeDh",
        "outputId": "7e01a1b9-b6a5-45e9-83ba-f77c242e6172"
      },
      "execution_count": null,
      "outputs": [
        {
          "output_type": "stream",
          "name": "stdout",
          "text": [
            "[ 0  1  2  3  4  5  6  7  8  9 10 11 12 13 14 15 16 17 18 19 20 21 22 23\n",
            " 24 25 26 27 28 29 30 31 32 33 34 35 36 37 38 39 40 41 42 43 44 45 46 47\n",
            " 48]\n"
          ]
        }
      ]
    },
    {
      "cell_type": "code",
      "source": [
        "np.random.shuffle(index)\n",
        "print(index)"
      ],
      "metadata": {
        "colab": {
          "base_uri": "https://localhost:8080/"
        },
        "id": "qIsIrChrW31y",
        "outputId": "cdb5dec0-a2b6-4d3c-ffb6-b44c6de05afe"
      },
      "execution_count": null,
      "outputs": [
        {
          "output_type": "stream",
          "name": "stdout",
          "text": [
            "[13 45 47 44 17 27 26 25 31 19 12  4 34  8  3  6 40 41 46 15  9 16 24 33\n",
            " 30  0 43 32  5 29 11 36  1 21  2 37 35 23 39 10 22 18 48 20  7 42 14 28\n",
            " 38]\n"
          ]
        }
      ]
    },
    {
      "cell_type": "markdown",
      "source": [
        "- 훈련 데이터 및 테스트 데이터 재 코딩"
      ],
      "metadata": {
        "id": "R5EMaikYXK_i"
      }
    },
    {
      "cell_type": "code",
      "source": [
        "train_input = input_arr[index[:35]]\n",
        "train_target = target_arr[index[:35]]\n",
        "\n",
        "print(input_arr[13], train_input[0])"
      ],
      "metadata": {
        "colab": {
          "base_uri": "https://localhost:8080/"
        },
        "id": "3WpDqDuqXNy6",
        "outputId": "1215ebe9-72c8-4933-9dc6-a8e4755e7601"
      },
      "execution_count": null,
      "outputs": [
        {
          "output_type": "stream",
          "name": "stdout",
          "text": [
            "[ 32. 340.] [ 32. 340.]\n"
          ]
        }
      ]
    },
    {
      "cell_type": "code",
      "source": [
        "test_input = input_arr[index[35:]]\n",
        "test_target = target_arr[index[35:]]"
      ],
      "metadata": {
        "id": "GOmZ1jBgXdwL"
      },
      "execution_count": null,
      "outputs": []
    },
    {
      "cell_type": "code",
      "source": [
        "train_input.shape, train_target.shape, test_input.shape, test_target.shape"
      ],
      "metadata": {
        "colab": {
          "base_uri": "https://localhost:8080/"
        },
        "id": "6PnxqGRaXqZR",
        "outputId": "fe4907ec-dac2-4562-e9fc-f2aee44c80b1"
      },
      "execution_count": null,
      "outputs": [
        {
          "output_type": "execute_result",
          "data": {
            "text/plain": [
              "((35, 2), (35,), (14, 2), (14,))"
            ]
          },
          "metadata": {},
          "execution_count": 26
        }
      ]
    },
    {
      "cell_type": "markdown",
      "source": [
        "# 시각화 생략"
      ],
      "metadata": {
        "id": "JsPXVOPDYYrD"
      }
    },
    {
      "cell_type": "code",
      "source": [
        "## 두 번째 머신러닝 프로그램"
      ],
      "metadata": {
        "id": "amyf3damYa8Z"
      },
      "execution_count": null,
      "outputs": []
    },
    {
      "cell_type": "code",
      "source": [
        "kn = kn.fit(train_input, train_target)\n",
        "kn.score(test_input, test_target)"
      ],
      "metadata": {
        "colab": {
          "base_uri": "https://localhost:8080/"
        },
        "id": "8UjwwtSQYdQT",
        "outputId": "51ed513c-d15b-4b59-f9b5-ef63fee7da6c"
      },
      "execution_count": null,
      "outputs": [
        {
          "output_type": "execute_result",
          "data": {
            "text/plain": [
              "1.0"
            ]
          },
          "metadata": {},
          "execution_count": 27
        }
      ]
    },
    {
      "cell_type": "code",
      "source": [
        "kn.predict(test_input)"
      ],
      "metadata": {
        "colab": {
          "base_uri": "https://localhost:8080/"
        },
        "id": "H7nV21W3YyAi",
        "outputId": "e4141bc0-9d0e-4620-f8a4-9ae0c3ec78cf"
      },
      "execution_count": null,
      "outputs": [
        {
          "output_type": "execute_result",
          "data": {
            "text/plain": [
              "array([0, 0, 1, 0, 1, 1, 1, 0, 1, 1, 0, 1, 1, 0])"
            ]
          },
          "metadata": {},
          "execution_count": 28
        }
      ]
    },
    {
      "cell_type": "code",
      "source": [
        "test_target"
      ],
      "metadata": {
        "colab": {
          "base_uri": "https://localhost:8080/"
        },
        "id": "OUT4c_trY1dx",
        "outputId": "1f415fd0-c346-4c19-d78d-3a25a9dcdeca"
      },
      "execution_count": null,
      "outputs": [
        {
          "output_type": "execute_result",
          "data": {
            "text/plain": [
              "array([0, 0, 1, 0, 1, 1, 1, 0, 1, 1, 0, 1, 1, 0])"
            ]
          },
          "metadata": {},
          "execution_count": 42
        }
      ]
    },
    {
      "cell_type": "markdown",
      "source": [
        "- 영상 https://www.youtube.com/watch?v=CyuI2F_wJWw"
      ],
      "metadata": {
        "id": "mjAFaAe0n9EY"
      }
    }
  ]
}