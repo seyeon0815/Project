{
  "nbformat": 4,
  "nbformat_minor": 0,
  "metadata": {
    "colab": {
      "name": "혼공머신 ch05_03.ipynb",
      "provenance": [],
      "authorship_tag": "ABX9TyPfPMbDnztkSkBKbYbjtDIz",
      "include_colab_link": true
    },
    "kernelspec": {
      "name": "python3",
      "display_name": "Python 3"
    },
    "language_info": {
      "name": "python"
    }
  },
  "cells": [
    {
      "cell_type": "markdown",
      "metadata": {
        "id": "view-in-github",
        "colab_type": "text"
      },
      "source": [
        "<a href=\"https://colab.research.google.com/github/seyeon0815/Project/blob/main/%ED%98%BC%EA%B3%B5%EB%A8%B8%EC%8B%A0_ch05_03.ipynb\" target=\"_parent\"><img src=\"https://colab.research.google.com/assets/colab-badge.svg\" alt=\"Open In Colab\"/></a>"
      ]
    },
    {
      "cell_type": "markdown",
      "source": [
        "## 랜덤 포레스트(Forest)\n",
        "- 결정 트리 나무를 500개 심기\n",
        "- 나무-1: 양성\n",
        "- 나무-2 : 음성\n",
        "- 나무-3 : 양성\n",
        "- 나무-500 : 양성"
      ],
      "metadata": {
        "id": "nVVajEw5pUmZ"
      }
    },
    {
      "cell_type": "markdown",
      "source": [
        "# 트리의 앙상블"
      ],
      "metadata": {
        "id": "0gyNWRwlqSgr"
      }
    },
    {
      "cell_type": "code",
      "source": [
        "import numpy as np\n",
        "import pandas as pd\n",
        "from sklearn.model_selection import train_test_split\n",
        "\n",
        "wine = pd.read_csv('https://bit.ly/wine_csv_data')\n",
        "\n",
        "data = wine[['alcohol', 'sugar', 'pH']].to_numpy()\n",
        "target = wine['class'].to_numpy()\n",
        "\n",
        "train_input, test_input, train_target, test_target = train_test_split(data, \n",
        "                                                                      target, \n",
        "                                                                      test_size=0.2, \n",
        "                                                                      random_state=42)\n",
        "\n",
        "\n",
        "\n",
        "\n",
        "\n",
        "\n",
        "\n",
        "\n",
        "\n"
      ],
      "metadata": {
        "id": "CFrp9EmJpXvx"
      },
      "execution_count": null,
      "outputs": []
    },
    {
      "cell_type": "code",
      "source": [
        "from sklearn.model_selection import cross_validate\n",
        "from sklearn.ensemble import RandomForestClassifier\n",
        "rf = RandomForestClassifier(n_jobs=-1,random_state =42)\n",
        "scores = cross_validate(rf, train_input, train_target,\n",
        "                        return_train_score = True, n_jobs= -1)\n",
        "\n",
        "print(np.mean(scores['train_score']), np.mean(scores['test_score']))\n",
        "# 과대 적합 발생"
      ],
      "metadata": {
        "colab": {
          "base_uri": "https://localhost:8080/"
        },
        "id": "QUAIAaOopbNd",
        "outputId": "b7146980-0723-4fcc-bb39-64845d94eb7e"
      },
      "execution_count": null,
      "outputs": [
        {
          "output_type": "stream",
          "name": "stdout",
          "text": [
            "0.9973541965122431 0.8905151032797809\n"
          ]
        }
      ]
    },
    {
      "cell_type": "code",
      "source": [
        "rf.fit(train_input, train_target)\n",
        "print(rf.feature_importances_)"
      ],
      "metadata": {
        "colab": {
          "base_uri": "https://localhost:8080/"
        },
        "id": "Qy5IXRaAqI7e",
        "outputId": "ac297bde-43e5-4a0d-a888-b0dba5dd51fd"
      },
      "execution_count": null,
      "outputs": [
        {
          "output_type": "stream",
          "name": "stdout",
          "text": [
            "[0.23167441 0.50039841 0.26792718]\n"
          ]
        }
      ]
    },
    {
      "cell_type": "code",
      "source": [
        "rf = RandomForestClassifier(oob_score = True, n_jobs=-1, random_state=42)\n",
        "rf.fit(train_input, train_target)\n",
        "print(rf.oob_score_)"
      ],
      "metadata": {
        "colab": {
          "base_uri": "https://localhost:8080/"
        },
        "id": "VAvRgDXiqv4W",
        "outputId": "c37f5129-e751-4d14-f421-df5ff3eebc30"
      },
      "execution_count": null,
      "outputs": [
        {
          "output_type": "stream",
          "name": "stdout",
          "text": [
            "0.8934000384837406\n"
          ]
        }
      ]
    },
    {
      "cell_type": "markdown",
      "source": [
        "랜덤 포레스트: 한번 샘플링해서 모델 만들면 끝, 독립임\n",
        "0.9, 0.8,0.85,,,\n",
        "\n",
        "부스팅: 결과값을 업데이트시켜 보완을 내가 지정한 개수가 될 때까지 함\n",
        "0.5 0.7 0.8 ,,, 숫자 커짐\n",
        "\n",
        "#그래이디언트 부스팅\n",
        "- 이전 트리의 오차를 보완하는 방식으로 사용\n",
        "- 깊이가 얕은 트리를 사용\n",
        "- 학습률 매개변수로 속도를 조절\n",
        "- 단점: 속도가 느림"
      ],
      "metadata": {
        "id": "hTpXXhrMq-gV"
      }
    },
    {
      "cell_type": "code",
      "source": [
        "from sklearn.ensemble import GradientBoostingClassifier\n",
        "gb = GradientBoostingClassifier(random_state=42)\n",
        "scores = cross_validate(gb, train_input, train_target,\n",
        "                        return_train_score = True, n_jobs=-1)\n",
        "\n",
        "print(np.mean(scores['train_score']), np.mean(scores['test_score']))"
      ],
      "metadata": {
        "colab": {
          "base_uri": "https://localhost:8080/"
        },
        "id": "HwA4geCpq8YB",
        "outputId": "206f2c5d-2221-454a-cd3d-aa1aba923228"
      },
      "execution_count": null,
      "outputs": [
        {
          "output_type": "stream",
          "name": "stdout",
          "text": [
            "0.8881086892152563 0.8720430147331015\n"
          ]
        }
      ]
    },
    {
      "cell_type": "code",
      "source": [
        "gb = GradientBoostingClassifier(n_estimators=500, learning_rate =0.2,random_state = 42)\n",
        "# learning_rate = 학습률 #n_estimators: 심는 나무 개수, 숫자가 커질 수록 처리 속도가 길어짐\n",
        "scores = cross_validate(gb, train_input, train_target,\n",
        "                        return_train_score = True, n_jobs=-1)\n",
        "\n",
        "print(np.mean(scores['train_score']),np.mean(scores['test_score']))"
      ],
      "metadata": {
        "colab": {
          "base_uri": "https://localhost:8080/"
        },
        "id": "xq6EMhvftVPL",
        "outputId": "02aec4ba-e8aa-4d21-aacc-70a635fd09e4"
      },
      "execution_count": null,
      "outputs": [
        {
          "output_type": "stream",
          "name": "stdout",
          "text": [
            "0.9464595437171814 0.8780082549788999\n"
          ]
        }
      ]
    },
    {
      "cell_type": "markdown",
      "source": [
        "- 머신러닝 전체적인 흐름\n",
        " + 0. 데이터 전처리/ 시각화\n",
        " + 1. 기본 모형으로 전체 흐름을 설계\n",
        " + 2. 여러 모형으로 비교 대조\n",
        " + 3. 교차 검증, 하이퍼파라미터 성능 비교\n",
        " + ...반복\n"
      ],
      "metadata": {
        "id": "Sw1u_4nrurfW"
      }
    }
  ]
}