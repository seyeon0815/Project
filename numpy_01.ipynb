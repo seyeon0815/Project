{
  "nbformat": 4,
  "nbformat_minor": 0,
  "metadata": {
    "colab": {
      "name": "numpy_01.ipynb",
      "provenance": [],
      "authorship_tag": "ABX9TyPHe4udxITjF/4TFw6ppMx4",
      "include_colab_link": true
    },
    "kernelspec": {
      "name": "python3",
      "display_name": "Python 3"
    },
    "language_info": {
      "name": "python"
    }
  },
  "cells": [
    {
      "cell_type": "markdown",
      "metadata": {
        "id": "view-in-github",
        "colab_type": "text"
      },
      "source": [
        "<a href=\"https://colab.research.google.com/github/seyeon0815/Project/blob/main/numpy_01.ipynb\" target=\"_parent\"><img src=\"https://colab.research.google.com/assets/colab-badge.svg\" alt=\"Open In Colab\"/></a>"
      ]
    },
    {
      "cell_type": "code",
      "source": [
        "# R install.packages(\"패키지명\")\n",
        "# 파이썬 라이브러리 설치 코드에서 실행 (x)\n",
        "# 터미널에서 설치\n",
        "# 방법 1. conda  설치\n",
        "# --> 아나콘다 설치 후, conda 설치 (주 사용목적: 데이터 과학)\n",
        "# conda 라이브러리 관리 (약간 버전 업데이트가 조금 느림)\n",
        "# 방법 2. pip 설치(개발 + 데이터 과학 + 그외)\n",
        "# --> 아나콘다 설치 안함/ 파이썬만 설치\n",
        "\n",
        "#git bash 열고 pip install numpy\n",
        "# pip install numpy"
      ],
      "metadata": {
        "id": "7HXOpmqMN4-l"
      },
      "execution_count": null,
      "outputs": []
    },
    {
      "cell_type": "markdown",
      "source": [
        "# Numpy  라이브러리 불러오기"
      ],
      "metadata": {
        "id": "4hZVSrRETVC4"
      }
    },
    {
      "cell_type": "code",
      "source": [
        "import numpy as np #(=library dplyr 같은 느낌)\n",
        "print(np.__version__) #numpy 대신 np로 써도 됨"
      ],
      "metadata": {
        "colab": {
          "base_uri": "https://localhost:8080/"
        },
        "id": "6yiqbMj8TX0Z",
        "outputId": "61d06f20-5bef-46d7-ef74-bb7e4d968be2"
      },
      "execution_count": null,
      "outputs": [
        {
          "output_type": "stream",
          "name": "stdout",
          "text": [
            "1.21.5\n"
          ]
        }
      ]
    },
    {
      "cell_type": "markdown",
      "source": [
        "# 배열로 변한\n",
        "- 1부터 10까지의 리스트를 만든다.\n",
        "- Numpy 배열로 변환해서 저장한다."
      ],
      "metadata": {
        "id": "pe4_ip0DUfHT"
      }
    },
    {
      "cell_type": "code",
      "source": [
        "temp = [1, 2, 3, 4, 5, 6, 7, 8, 9, 10] # 리스트를 바로 쓸 수 없기 때문에 변환을 해 주어야 함\n",
        "arr = np.array(temp)\n",
        "print(arr)\n",
        "print(temp)"
      ],
      "metadata": {
        "colab": {
          "base_uri": "https://localhost:8080/"
        },
        "id": "1zBtyM5tUlk3",
        "outputId": "c05710db-eedf-4791-94ad-f2fdb6efaa88"
      },
      "execution_count": null,
      "outputs": [
        {
          "output_type": "stream",
          "name": "stdout",
          "text": [
            "[ 1  2  3  4  5  6  7  8  9 10]\n",
            "[1, 2, 3, 4, 5, 6, 7, 8, 9, 10]\n"
          ]
        }
      ]
    },
    {
      "cell_type": "code",
      "source": [
        "print(type(temp))\n",
        "print(type(arr))"
      ],
      "metadata": {
        "colab": {
          "base_uri": "https://localhost:8080/"
        },
        "id": "B1YSOoF4VAR1",
        "outputId": "5912a99a-f6bd-45a4-e920-651352bf96ba"
      },
      "execution_count": null,
      "outputs": [
        {
          "output_type": "stream",
          "name": "stdout",
          "text": [
            "<class 'list'>\n",
            "<class 'numpy.ndarray'>\n"
          ]
        }
      ]
    },
    {
      "cell_type": "markdown",
      "source": [
        "- arr 배열 숫자 5 출력"
      ],
      "metadata": {
        "id": "feZ_rP9RVLgO"
      }
    },
    {
      "cell_type": "code",
      "source": [
        "arr[4]\n",
        "arr[4:8]"
      ],
      "metadata": {
        "colab": {
          "base_uri": "https://localhost:8080/"
        },
        "id": "sHsgZIT3VNpQ",
        "outputId": "f2e80d4f-1296-411f-ada4-ad24461c6af4"
      },
      "execution_count": null,
      "outputs": [
        {
          "output_type": "execute_result",
          "data": {
            "text/plain": [
              "array([5, 6, 7, 8])"
            ]
          },
          "metadata": {},
          "execution_count": 12
        }
      ]
    },
    {
      "cell_type": "markdown",
      "source": [
        "- Numpy를 사용하여 기초 통계 함수를 사용한다."
      ],
      "metadata": {
        "id": "VDShHTBrVmbA"
      }
    },
    {
      "cell_type": "code",
      "source": [
        "print(np.mean(arr))\n",
        "np.sum(arr)\n",
        "np.median(arr)\n",
        "np.std(arr) #표준편차"
      ],
      "metadata": {
        "colab": {
          "base_uri": "https://localhost:8080/"
        },
        "id": "Ssv5TG5EVp8-",
        "outputId": "d25ae1b3-cd21-4183-930d-1761b783c22b"
      },
      "execution_count": null,
      "outputs": [
        {
          "output_type": "stream",
          "name": "stdout",
          "text": [
            "5.5\n"
          ]
        },
        {
          "output_type": "execute_result",
          "data": {
            "text/plain": [
              "2.8722813232690143"
            ]
          },
          "metadata": {},
          "execution_count": 15
        }
      ]
    },
    {
      "cell_type": "markdown",
      "source": [
        "# 사칙연산"
      ],
      "metadata": {
        "id": "IWUlC35gV_4B"
      }
    },
    {
      "cell_type": "code",
      "source": [
        "math_scores = [90, 80, 88]\n",
        "english_scores = [80, 70, 90]\n",
        "\n",
        "total_scores = math_scores + english_scores #리스트의 합\n",
        "math_arr = np.array(math_scores)\n",
        "english_arr = np.array(english_scores)\n",
        "\n",
        "total_scores = math_arr + english_arr\n",
        "total_scores"
      ],
      "metadata": {
        "colab": {
          "base_uri": "https://localhost:8080/"
        },
        "id": "wl_5A_BfWDV7",
        "outputId": "185120fd-5f19-40fe-b4d0-10b143292d22"
      },
      "execution_count": null,
      "outputs": [
        {
          "output_type": "execute_result",
          "data": {
            "text/plain": [
              "array([170, 150, 178])"
            ]
          },
          "metadata": {},
          "execution_count": 17
        }
      ]
    },
    {
      "cell_type": "code",
      "source": [
        "np.min(total_scores)\n",
        "np.max(total_scores)"
      ],
      "metadata": {
        "colab": {
          "base_uri": "https://localhost:8080/"
        },
        "id": "NcczfiFCWpJZ",
        "outputId": "83cc8df0-bffb-4aa3-b1cf-ec03bb4414f7"
      },
      "execution_count": null,
      "outputs": [
        {
          "output_type": "execute_result",
          "data": {
            "text/plain": [
              "178"
            ]
          },
          "metadata": {},
          "execution_count": 18
        }
      ]
    },
    {
      "cell_type": "code",
      "source": [
        "math_scores = [90, 80, 88]\n",
        "english_scores = [80, 70, 90]\n",
        "\n",
        "total_scores = math_scores + english_scores #리스트의 합\n",
        "math_arr = np.array(math_scores)\n",
        "english_arr = np.array(english_scores)\n",
        "\n",
        "# 사칙연산\n",
        "print(\"덧셈:\", np.add(math_arr, english_arr))\n",
        "print(\"뺄셈:\", np.subtract(math_arr, english_arr))\n",
        "print(\"곱셈:\", np.multiply(math_arr, english_arr))\n",
        "print(\"나눗셈:\", np.divide(math_arr, english_arr))\n",
        "print(\"거듭제곱:\", np.power(math_arr, english_arr)) #값이 너무 커서 0으로 나옴, 숫자 변경 시 정상 추출됨"
      ],
      "metadata": {
        "colab": {
          "base_uri": "https://localhost:8080/"
        },
        "id": "_pfME6r7XSTT",
        "outputId": "477a3de7-f14f-464c-df68-a06ea223ab29"
      },
      "execution_count": null,
      "outputs": [
        {
          "output_type": "stream",
          "name": "stdout",
          "text": [
            "덧셈: [170 150 178]\n",
            "뺄셈: [10 10 -2]\n",
            "곱셈: [7200 5600 7920]\n",
            "나눗셈: [1.125      1.14285714 0.97777778]\n",
            "거듭제곱: [0 0 0]\n"
          ]
        }
      ]
    },
    {
      "cell_type": "markdown",
      "source": [
        "# 배열의 생성\n",
        "- 0차원부터 3차원까지 생성하는 방법\n",
        "- temp_arr.shape는 axis 축을 기준으로 1차원은 axis=0 (숫자,),\n",
        "2차원은 axis0(세로), axis1(가로) 순\n",
        "3차원은 axis0(높이) , axis1(세로), axis2(가로)  ㅣ / ㅡ"
      ],
      "metadata": {
        "id": "Z4HX1QEwYZjt"
      }
    },
    {
      "cell_type": "code",
      "source": [
        "temp_arr = np.array(20)\n",
        "print(temp_arr)\n",
        "print(type(temp_arr))\n",
        "print(temp_arr.shape)"
      ],
      "metadata": {
        "colab": {
          "base_uri": "https://localhost:8080/"
        },
        "id": "X7YUzuYYYtOo",
        "outputId": "623d2352-3a7d-49f4-a637-341b7a436737"
      },
      "execution_count": null,
      "outputs": [
        {
          "output_type": "stream",
          "name": "stdout",
          "text": [
            "20\n",
            "<class 'numpy.ndarray'>\n",
            "()\n"
          ]
        }
      ]
    },
    {
      "cell_type": "code",
      "source": [
        "# 1차원 배열\n",
        "temp_arr = np.array([1, 2, 3])\n",
        "print(temp_arr)\n",
        "print(type(temp_arr))\n",
        "print(temp_arr.shape) #3 = 3 * 1 사각형\n",
        "print(temp_arr.ndim) #차원을 모를 때 확인하는 용"
      ],
      "metadata": {
        "colab": {
          "base_uri": "https://localhost:8080/"
        },
        "id": "whplYWkMZTGt",
        "outputId": "7b843a57-a62c-4efa-e93a-8a45fa2f041a"
      },
      "execution_count": null,
      "outputs": [
        {
          "output_type": "stream",
          "name": "stdout",
          "text": [
            "[1 2 3]\n",
            "<class 'numpy.ndarray'>\n",
            "(3,)\n",
            "1\n"
          ]
        }
      ]
    },
    {
      "cell_type": "code",
      "source": [
        "# 2차원 배열\n",
        "temp_arr = np.array([[1, 2, 3], [4, 5, 6]]) # 중첩 리스트\n",
        "print(temp_arr)\n",
        "print(type(temp_arr))\n",
        "print(temp_arr.shape) #(2, 3) = 2 * 3\n",
        "print(temp_arr.ndim) #차원을 모를 때 확인하는 용"
      ],
      "metadata": {
        "colab": {
          "base_uri": "https://localhost:8080/"
        },
        "id": "94N4JB3sZjsG",
        "outputId": "293494a3-04f1-488f-cee8-01f0fc4e591b"
      },
      "execution_count": null,
      "outputs": [
        {
          "output_type": "stream",
          "name": "stdout",
          "text": [
            "[[1 2 3]\n",
            " [4 5 6]]\n",
            "<class 'numpy.ndarray'>\n",
            "(2, 3)\n",
            "2\n"
          ]
        }
      ]
    },
    {
      "cell_type": "code",
      "source": [
        "# 3차원 배열\n",
        "temp_arr = np.array([[[1, 2, 3], [4, 5, 6]], [[1, 2, 3], [4, 5, 6]]])\n",
        "print(temp_arr)\n",
        "print(type(temp_arr))\n",
        "print(temp_arr.shape) # 2*2*3\n",
        "print(temp_arr.ndim)"
      ],
      "metadata": {
        "colab": {
          "base_uri": "https://localhost:8080/"
        },
        "id": "8RDoyynYaQuZ",
        "outputId": "26c7a097-79da-4291-f5d6-005d0e7e3880"
      },
      "execution_count": null,
      "outputs": [
        {
          "output_type": "stream",
          "name": "stdout",
          "text": [
            "[[[1 2 3]\n",
            "  [4 5 6]]\n",
            "\n",
            " [[1 2 3]\n",
            "  [4 5 6]]]\n",
            "<class 'numpy.ndarray'>\n",
            "(2, 2, 3)\n",
            "3\n"
          ]
        }
      ]
    },
    {
      "cell_type": "code",
      "source": [
        "temp_arr = np.array([1, 2, 3, 4], ndmin = 2) #ndmin을 사용시 2차원 배열로 바뀜\n",
        "print(temp_arr)\n",
        "print(type(temp_arr))\n",
        "print(temp_arr.shape)\n",
        "print(temp_arr.ndim)"
      ],
      "metadata": {
        "colab": {
          "base_uri": "https://localhost:8080/"
        },
        "id": "zIbOjoR1bCdC",
        "outputId": "39d94dfd-f319-409f-c3af-0cdb40930107"
      },
      "execution_count": null,
      "outputs": [
        {
          "output_type": "stream",
          "name": "stdout",
          "text": [
            "[[1 2 3 4]]\n",
            "<class 'numpy.ndarray'>\n",
            "(1, 4)\n",
            "2\n"
          ]
        }
      ]
    },
    {
      "cell_type": "markdown",
      "source": [
        "## 소숫점 정렬"
      ],
      "metadata": {
        "id": "ZRHU_uVUcA7E"
      }
    },
    {
      "cell_type": "code",
      "source": [
        "temp_arr = np.trunc([-1.23, 1.23])\n",
        "temp_arr #cut"
      ],
      "metadata": {
        "colab": {
          "base_uri": "https://localhost:8080/"
        },
        "id": "2MLCBFE4cDIg",
        "outputId": "d15c436d-9c4a-4d4e-8dba-573f00d6d88b"
      },
      "execution_count": null,
      "outputs": [
        {
          "output_type": "execute_result",
          "data": {
            "text/plain": [
              "array([-1.,  1.])"
            ]
          },
          "metadata": {},
          "execution_count": 31
        }
      ]
    },
    {
      "cell_type": "code",
      "source": [
        "temp_arr = np.fix([-1.23, 1.23]) #cut\n",
        "temp_arr "
      ],
      "metadata": {
        "colab": {
          "base_uri": "https://localhost:8080/"
        },
        "id": "c4A6rvGScVs_",
        "outputId": "c78da384-bb74-4b9e-ddbf-cf0e177792cb"
      },
      "execution_count": null,
      "outputs": [
        {
          "output_type": "execute_result",
          "data": {
            "text/plain": [
              "array([-1.,  1.])"
            ]
          },
          "metadata": {},
          "execution_count": 32
        }
      ]
    },
    {
      "cell_type": "code",
      "source": [
        "temp_arr = np.around([-1.23789, 1.23789], 4) #4 = 표시할 소수점 자리수 입력\n",
        "temp_arr"
      ],
      "metadata": {
        "colab": {
          "base_uri": "https://localhost:8080/"
        },
        "id": "O_OHi5nKcdv0",
        "outputId": "45a3d575-f8fa-4807-de90-09ec98c35e18"
      },
      "execution_count": null,
      "outputs": [
        {
          "output_type": "execute_result",
          "data": {
            "text/plain": [
              "array([-1.2379,  1.2379])"
            ]
          },
          "metadata": {},
          "execution_count": 37
        }
      ]
    },
    {
      "cell_type": "code",
      "source": [
        "temp_arr = np.floor([-1.23789, 1.23789]) #소숫점 내리기\n",
        "temp_arr"
      ],
      "metadata": {
        "colab": {
          "base_uri": "https://localhost:8080/"
        },
        "id": "83Z4AJFUc4-s",
        "outputId": "a74467ed-ff1c-4329-c03c-5987f4020f1e"
      },
      "execution_count": null,
      "outputs": [
        {
          "output_type": "execute_result",
          "data": {
            "text/plain": [
              "array([-2.,  1.])"
            ]
          },
          "metadata": {},
          "execution_count": 39
        }
      ]
    },
    {
      "cell_type": "code",
      "source": [
        "temp_arr = np.ceil([-1.23789, 1.23789])\n",
        "temp_arr"
      ],
      "metadata": {
        "colab": {
          "base_uri": "https://localhost:8080/"
        },
        "id": "PJiKa8PadBEp",
        "outputId": "ce064fe2-6a81-47d8-d922-0ed3d8ade23a"
      },
      "execution_count": null,
      "outputs": [
        {
          "output_type": "execute_result",
          "data": {
            "text/plain": [
              "array([-1.,  2.])"
            ]
          },
          "metadata": {},
          "execution_count": 40
        }
      ]
    },
    {
      "cell_type": "markdown",
      "source": [
        ""
      ],
      "metadata": {
        "id": "1lGPP4E9gzgX"
      }
    },
    {
      "cell_type": "code",
      "source": [
        ""
      ],
      "metadata": {
        "id": "ZBp3mAZeilVu"
      },
      "execution_count": null,
      "outputs": []
    },
    {
      "cell_type": "markdown",
      "source": [
        "# 배열을 생성하는 다양한 방법들"
      ],
      "metadata": {
        "id": "GcRrGSk1i0He"
      }
    },
    {
      "cell_type": "code",
      "source": [
        "temp_arr = np.arange(5) #반복문 쓸시 사용했던 range\n",
        "temp_arr"
      ],
      "metadata": {
        "colab": {
          "base_uri": "https://localhost:8080/"
        },
        "id": "hJTkCHIGi27M",
        "outputId": "690ccb5b-2daf-4c3c-b0c1-12ed5cdd6b19"
      },
      "execution_count": null,
      "outputs": [
        {
          "output_type": "execute_result",
          "data": {
            "text/plain": [
              "array([0, 1, 2, 3, 4])"
            ]
          },
          "metadata": {},
          "execution_count": 42
        }
      ]
    },
    {
      "cell_type": "code",
      "source": [
        "temp_arr = np.arange(1, 11, 3) #1부터 11까지 3칸씩 띄우기\n",
        "temp_arr #일차함수"
      ],
      "metadata": {
        "colab": {
          "base_uri": "https://localhost:8080/"
        },
        "id": "X0fZuXmVjFzb",
        "outputId": "6e4e7129-66c3-4d4e-9e05-da1e545a9d0f"
      },
      "execution_count": null,
      "outputs": [
        {
          "output_type": "execute_result",
          "data": {
            "text/plain": [
              "array([ 1,  4,  7, 10])"
            ]
          },
          "metadata": {},
          "execution_count": 44
        }
      ]
    },
    {
      "cell_type": "code",
      "source": [
        "zero_arr = np.zeros((2, 3))\n",
        "print(zero_arr)\n",
        "print(type(zero_arr))\n",
        "print(zero_arr.shape)\n",
        "print(zero_arr.ndim)\n",
        "print(zero_arr.dtype) #64 = 비트 #같은 int여도 bit숫자의 차이가 난다"
      ],
      "metadata": {
        "colab": {
          "base_uri": "https://localhost:8080/"
        },
        "id": "kkGicpP0jViG",
        "outputId": "488bf78a-2d72-475d-dd8d-8ebd13d39944"
      },
      "execution_count": null,
      "outputs": [
        {
          "output_type": "stream",
          "name": "stdout",
          "text": [
            "[[0. 0. 0.]\n",
            " [0. 0. 0.]]\n",
            "<class 'numpy.ndarray'>\n",
            "(2, 3)\n",
            "2\n",
            "float64\n"
          ]
        }
      ]
    },
    {
      "cell_type": "code",
      "source": [
        "temp_arr = np.ones((4, 5)) #4*5\n",
        "print(temp_arr)\n",
        "print(type(temp_arr))\n",
        "print(temp_arr.shape)\n",
        "print(temp_arr.ndim)\n",
        "print(temp_arr.dtype) # 실수형\n",
        "\n",
        "temp_arr = np.ones((4, 5), dtype =\"int32\") #dtype = 데이터 형변환\n",
        "print(temp_arr)\n",
        "print(type(temp_arr))\n",
        "print(temp_arr.shape)\n",
        "print(temp_arr.ndim)\n",
        "print(temp_arr.dtype) # 정수형"
      ],
      "metadata": {
        "colab": {
          "base_uri": "https://localhost:8080/"
        },
        "id": "H-OWcfzdkecu",
        "outputId": "b4407385-9a0b-403e-d8c1-f9dfa278290f"
      },
      "execution_count": null,
      "outputs": [
        {
          "output_type": "stream",
          "name": "stdout",
          "text": [
            "[[1. 1. 1. 1. 1.]\n",
            " [1. 1. 1. 1. 1.]\n",
            " [1. 1. 1. 1. 1.]\n",
            " [1. 1. 1. 1. 1.]]\n",
            "<class 'numpy.ndarray'>\n",
            "(4, 5)\n",
            "2\n",
            "float64\n",
            "[[1 1 1 1 1]\n",
            " [1 1 1 1 1]\n",
            " [1 1 1 1 1]\n",
            " [1 1 1 1 1]]\n",
            "<class 'numpy.ndarray'>\n",
            "(4, 5)\n",
            "2\n",
            "int32\n"
          ]
        }
      ]
    },
    {
      "cell_type": "code",
      "source": [
        ""
      ],
      "metadata": {
        "id": "8TBc6zPJlCvq"
      },
      "execution_count": null,
      "outputs": []
    },
    {
      "cell_type": "code",
      "source": [
        "temp_arr = np.ones((2, 6), dtype =\"int32\")\n",
        "temp_res_arr = temp_arr.reshape(3, 4) #res = reshape / 3 * 4 # 2차원으로 바꾸기\n",
        "print(temp_res_arr)\n",
        "print(type(temp_res_arr))\n",
        "print(temp_res_arr.shape)\n",
        "print(temp_res_arr.ndim)\n",
        "print(temp_res_arr.dtype) \n",
        "\n",
        "temp_arr = np.ones((2, 6), dtype =\"int32\")\n",
        "temp_res_arr = temp_arr.reshape(2, 2, 3) #res = reshape / # 3차원으로 바꾸기\n",
        "print(temp_res_arr)\n",
        "print(type(temp_res_arr))\n",
        "print(temp_res_arr.shape)\n",
        "print(temp_res_arr.ndim)\n",
        "print(temp_res_arr.dtype) "
      ],
      "metadata": {
        "colab": {
          "base_uri": "https://localhost:8080/"
        },
        "id": "5jn2Xpt5lFvg",
        "outputId": "5383dafb-94cb-4f6c-de48-a4d003e6308b"
      },
      "execution_count": null,
      "outputs": [
        {
          "output_type": "stream",
          "name": "stdout",
          "text": [
            "[[1 1 1 1]\n",
            " [1 1 1 1]\n",
            " [1 1 1 1]]\n",
            "<class 'numpy.ndarray'>\n",
            "(3, 4)\n",
            "2\n",
            "int32\n",
            "[[[1 1 1]\n",
            "  [1 1 1]]\n",
            "\n",
            " [[1 1 1]\n",
            "  [1 1 1]]]\n",
            "<class 'numpy.ndarray'>\n",
            "(2, 2, 3)\n",
            "3\n",
            "int32\n"
          ]
        }
      ]
    },
    {
      "cell_type": "code",
      "source": [
        "temp_arr = np.ones((2, 6), dtype =\"int32\")\n",
        "temp_res_arr = temp_arr.reshape(5, 3) #error 이유:크기가 12(np.ones 2*6)여야 됨 (1, 12), (2, 6), (3, 4), 그 반대\n",
        "print(temp_res_arr)\n",
        "print(type(temp_res_arr))\n",
        "print(temp_res_arr.shape)\n",
        "print(temp_res_arr.ndim)\n",
        "print(temp_res_arr.dtype"
      ],
      "metadata": {
        "colab": {
          "base_uri": "https://localhost:8080/",
          "height": 136
        },
        "id": "PxtIgfPrl5gt",
        "outputId": "e998cecb-c49d-40a0-e7d3-de1a13d3a60c"
      },
      "execution_count": null,
      "outputs": [
        {
          "output_type": "error",
          "ename": "SyntaxError",
          "evalue": "ignored",
          "traceback": [
            "\u001b[0;36m  File \u001b[0;32m\"<ipython-input-53-d4d9c0f69860>\"\u001b[0;36m, line \u001b[0;32m7\u001b[0m\n\u001b[0;31m    print(temp_res_arr.dtype\u001b[0m\n\u001b[0m                            ^\u001b[0m\n\u001b[0;31mSyntaxError\u001b[0m\u001b[0;31m:\u001b[0m unexpected EOF while parsing\n"
          ]
        }
      ]
    },
    {
      "cell_type": "code",
      "source": [
        "temp_arr = np.ones((12, 12), dtype = \"int32\")\n",
        "temp_res_arr = temp_arr.reshape(4,-1) #뒤에 어떤 숫자를 넣어야 할 지 모르겠을 때 -1입력시 자동으로 출력(총 값은 12*12=144가 되어야 함)/#(5, -1)은 안됨 144/5 불가\n",
        "print(temp_res_arr)\n",
        "print(type(temp_res_arr))\n",
        "print(temp_res_arr.shape)\n",
        "print(temp_res_arr.ndim)\n",
        "print(temp_res_arr.dtype)"
      ],
      "metadata": {
        "colab": {
          "base_uri": "https://localhost:8080/"
        },
        "id": "hYtApbkHmLuG",
        "outputId": "8431d0ba-6eee-445f-aac8-42d1b2f6f4d3"
      },
      "execution_count": null,
      "outputs": [
        {
          "output_type": "stream",
          "name": "stdout",
          "text": [
            "[[1 1 1 1 1 1 1 1 1 1 1 1 1 1 1 1 1 1 1 1 1 1 1 1 1 1 1 1 1 1 1 1 1 1 1 1]\n",
            " [1 1 1 1 1 1 1 1 1 1 1 1 1 1 1 1 1 1 1 1 1 1 1 1 1 1 1 1 1 1 1 1 1 1 1 1]\n",
            " [1 1 1 1 1 1 1 1 1 1 1 1 1 1 1 1 1 1 1 1 1 1 1 1 1 1 1 1 1 1 1 1 1 1 1 1]\n",
            " [1 1 1 1 1 1 1 1 1 1 1 1 1 1 1 1 1 1 1 1 1 1 1 1 1 1 1 1 1 1 1 1 1 1 1 1]]\n",
            "<class 'numpy.ndarray'>\n",
            "(4, 36)\n",
            "2\n",
            "int32\n"
          ]
        }
      ]
    },
    {
      "cell_type": "markdown",
      "source": [
        "# numpy 조건식"
      ],
      "metadata": {
        "id": "F9jdAj1am9ly"
      }
    },
    {
      "cell_type": "code",
      "source": [
        "temp_arr = np.arange(10)\n",
        "temp_arr"
      ],
      "metadata": {
        "colab": {
          "base_uri": "https://localhost:8080/"
        },
        "id": "D1JBb_2PnGFn",
        "outputId": "56c35c1c-b6f5-4b1d-b820-c7fdf59ab42f"
      },
      "execution_count": null,
      "outputs": [
        {
          "output_type": "execute_result",
          "data": {
            "text/plain": [
              "array([0, 1, 2, 3, 4, 5, 6, 7, 8, 9])"
            ]
          },
          "metadata": {},
          "execution_count": 58
        }
      ]
    },
    {
      "cell_type": "code",
      "source": [
        "# 5보다 작은 값은 원래값으로 반환\n",
        "# 5보다 큰 값은 원래값 * 10\n",
        "\n",
        "np.where(temp_arr < 5, temp_arr, temp_arr * 10) # 5보다 작을시(조건),temp(추출),그 외 경우 *10 (그 외 경우 추출)"
      ],
      "metadata": {
        "colab": {
          "base_uri": "https://localhost:8080/"
        },
        "id": "RAsqjckWnOjt",
        "outputId": "19e9a844-7bbe-4911-9c19-6f3accf6b51b"
      },
      "execution_count": null,
      "outputs": [
        {
          "output_type": "execute_result",
          "data": {
            "text/plain": [
              "array([ 0,  1,  2,  3,  4, 50, 60, 70, 80, 90])"
            ]
          },
          "metadata": {},
          "execution_count": 59
        }
      ]
    },
    {
      "cell_type": "code",
      "source": [
        "#0~100 까지의 배열 만들고, 50보다 작은 값은 곱하기 10, 나머지는 그냥 원래 값으로 반환\n",
        "temp_arr = np.arange(101) #100이 아닌 101 !0부터 숫자 셈!\n",
        "np.where(temp_arr < 50, temp_arr * 10, temp_arr)"
      ],
      "metadata": {
        "colab": {
          "base_uri": "https://localhost:8080/"
        },
        "id": "haCQhg6Pnxt7",
        "outputId": "05892e21-04cb-4d46-c49d-efdef978a90d"
      },
      "execution_count": null,
      "outputs": [
        {
          "output_type": "execute_result",
          "data": {
            "text/plain": [
              "array([  0,  10,  20,  30,  40,  50,  60,  70,  80,  90, 100, 110, 120,\n",
              "       130, 140, 150, 160, 170, 180, 190, 200, 210, 220, 230, 240, 250,\n",
              "       260, 270, 280, 290, 300, 310, 320, 330, 340, 350, 360, 370, 380,\n",
              "       390, 400, 410, 420, 430, 440, 450, 460, 470, 480, 490,  50,  51,\n",
              "        52,  53,  54,  55,  56,  57,  58,  59,  60,  61,  62,  63,  64,\n",
              "        65,  66,  67,  68,  69,  70,  71,  72,  73,  74,  75,  76,  77,\n",
              "        78,  79,  80,  81,  82,  83,  84,  85,  86,  87,  88,  89,  90,\n",
              "        91,  92,  93,  94,  95,  96,  97,  98,  99, 100])"
            ]
          },
          "metadata": {},
          "execution_count": 61
        }
      ]
    },
    {
      "cell_type": "markdown",
      "source": [
        "- np.select"
      ],
      "metadata": {
        "id": "mAvM_V8yozCL"
      }
    },
    {
      "cell_type": "code",
      "source": [
        "temp_arr = np.arange(10)\n",
        "\n",
        "# 5보다 큰 수 곱하기 2, 2보다 작은 값은 \n",
        "\n",
        "condlist = [temp_arr > 5, temp_arr <2] #조건이 두 개 일 때 np.where (x), np.select (o)\n",
        "choicelist = [temp_arr * 2, temp_arr +100]\n",
        "np.select(condlist, choielist) #np.select(codlist,choicelist,default=0) 숫자 지정 안하면 0값으로 나옴\n",
        "\n",
        "condlist = [temp_arr > 5, temp_arr <2] \n",
        "choicelist = [temp_arr * 2, temp_arr +100]\n",
        "np.select(condlist, choielist, default = temp_arr) #default값 설정하기"
      ],
      "metadata": {
        "colab": {
          "base_uri": "https://localhost:8080/"
        },
        "id": "Ng8lRPWHo0wC",
        "outputId": "56de5dbf-6a84-47a6-9c5c-d559d71cbfcf"
      },
      "execution_count": null,
      "outputs": [
        {
          "output_type": "execute_result",
          "data": {
            "text/plain": [
              "array([100, 101,   2,   3,   4,   5,  12,  14,  16,  18])"
            ]
          },
          "metadata": {},
          "execution_count": 67
        }
      ]
    }
  ]
}