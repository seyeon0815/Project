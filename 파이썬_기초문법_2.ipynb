{
  "nbformat": 4,
  "nbformat_minor": 0,
  "metadata": {
    "colab": {
      "name": "파이썬 기초문법_2.ipynb",
      "provenance": [],
      "collapsed_sections": [],
      "authorship_tag": "ABX9TyPZpSXAuzChXeiKs+6GXuzw",
      "include_colab_link": true
    },
    "kernelspec": {
      "name": "python3",
      "display_name": "Python 3"
    },
    "language_info": {
      "name": "python"
    }
  },
  "cells": [
    {
      "cell_type": "markdown",
      "metadata": {
        "id": "view-in-github",
        "colab_type": "text"
      },
      "source": [
        "<a href=\"https://colab.research.google.com/github/seyeon0815/Project/blob/main/%ED%8C%8C%EC%9D%B4%EC%8D%AC_%EA%B8%B0%EC%B4%88%EB%AC%B8%EB%B2%95_2.ipynb\" target=\"_parent\"><img src=\"https://colab.research.google.com/assets/colab-badge.svg\" alt=\"Open In Colab\"/></a>"
      ]
    },
    {
      "cell_type": "markdown",
      "source": [
        "## 기초 문법 리뷰"
      ],
      "metadata": {
        "id": "SJqUPRAn9Ie1"
      }
    },
    {
      "cell_type": "code",
      "source": [
        "# 리스트\n",
        "book_list = [\"A\", \"B\", \"C\"]\n",
        "# append, extend, insert, remove, pop, etc\n",
        "\n",
        "#튜플\n",
        "book_tuple = (\"A\", \"B\", \"C\")\n",
        "# 수정, 삭제가 불가능하다.\n",
        "\n",
        "#딕셔너리\n",
        "book_dictionary = {\"책 제목\" : [\"A\", \"B\"], \"출판년도\" : [2011, 2002]}\n",
        "# keys(), values(), items(), get()"
      ],
      "metadata": {
        "id": "aMAcLDhl9PCV"
      },
      "execution_count": null,
      "outputs": []
    },
    {
      "cell_type": "markdown",
      "source": [
        "\n",
        "# 조건문 & 반복문"
      ],
      "metadata": {
        "id": "H7skWaa1-I-c"
      }
    },
    {
      "cell_type": "code",
      "source": [
        "# 조건문\n",
        "if True:\n",
        "  print(\"코드 실행\")\n",
        "elif True:\n",
        "  print(\"코드 실행\")\n",
        "else:\n",
        "  print(\"코드 실행\")"
      ],
      "metadata": {
        "id": "A3l7BgG0-N3V",
        "colab": {
          "base_uri": "https://localhost:8080/"
        },
        "outputId": "a16085f6-06b6-485b-9564-f87c27d444ef"
      },
      "execution_count": null,
      "outputs": [
        {
          "output_type": "stream",
          "name": "stdout",
          "text": [
            "코드 실행\n"
          ]
        }
      ]
    },
    {
      "cell_type": "code",
      "source": [
        "# 반복문\n",
        "for i in range(3):\n",
        "  print(i+1, \"안녕하세요\") #+1은 하단 순서 1부터\n",
        "\n",
        "for idx in range(3):\n",
        "  print(idx + 1, \"안녕하세요\")"
      ],
      "metadata": {
        "id": "ovO7NsoP-Yi7",
        "colab": {
          "base_uri": "https://localhost:8080/"
        },
        "outputId": "51285c0c-44f6-40c0-deac-dcb69df3bc97"
      },
      "execution_count": null,
      "outputs": [
        {
          "output_type": "stream",
          "name": "stdout",
          "text": [
            "1 안녕하세요\n",
            "2 안녕하세요\n",
            "3 안녕하세요\n",
            "1 안녕하세요\n",
            "2 안녕하세요\n",
            "3 안녕하세요\n"
          ]
        }
      ]
    },
    {
      "cell_type": "code",
      "source": [
        "book_list = [\"프로그래밍 R\", \"혼자 공부하는 머신러닝\"]\n",
        "for book in book_list:\n",
        "  print(book)"
      ],
      "metadata": {
        "id": "fGMOWJBX--GS",
        "colab": {
          "base_uri": "https://localhost:8080/"
        },
        "outputId": "3a1787a3-1ae6-4ac7-b78f-9d175cf99157"
      },
      "execution_count": null,
      "outputs": [
        {
          "output_type": "stream",
          "name": "stdout",
          "text": [
            "프로그래밍 R\n",
            "혼자 공부하는 머신러닝\n"
          ]
        }
      ]
    },
    {
      "cell_type": "code",
      "source": [
        "strings01 = \"Hello World\"\n",
        "for char in strings01:\n",
        "  print(char) #문자를 하나의 그룹으로 인식"
      ],
      "metadata": {
        "id": "_ktRYaAp_RzV",
        "colab": {
          "base_uri": "https://localhost:8080/"
        },
        "outputId": "1e0cf24c-4f23-4490-bfb2-36da07169054"
      },
      "execution_count": null,
      "outputs": [
        {
          "output_type": "stream",
          "name": "stdout",
          "text": [
            "H\n",
            "e\n",
            "l\n",
            "l\n",
            "o\n",
            " \n",
            "W\n",
            "o\n",
            "r\n",
            "l\n",
            "d\n"
          ]
        }
      ]
    },
    {
      "cell_type": "code",
      "source": [
        "#튜플\n",
        "num_tuple = (1, 2, 3, 4)\n",
        "for num in num_tuple:\n",
        "  print(num) "
      ],
      "metadata": {
        "id": "Xxkc-AqO_mDF",
        "colab": {
          "base_uri": "https://localhost:8080/"
        },
        "outputId": "580a8154-d623-4b9e-e7f2-dc285696de18"
      },
      "execution_count": null,
      "outputs": [
        {
          "output_type": "stream",
          "name": "stdout",
          "text": [
            "1\n",
            "2\n",
            "3\n",
            "4\n"
          ]
        }
      ]
    },
    {
      "cell_type": "code",
      "source": [
        "#딕셔너리\n",
        "num_dict = {\"A\" : 1, \"B\" : 2}\n",
        "for num in num_dict:\n",
        "  print(num)\n",
        "  print(num_dict[num])"
      ],
      "metadata": {
        "id": "D5Ed_qbA_vrn",
        "colab": {
          "base_uri": "https://localhost:8080/"
        },
        "outputId": "a7480b76-a7be-4eb8-dccd-9a64bf1683a8"
      },
      "execution_count": null,
      "outputs": [
        {
          "output_type": "stream",
          "name": "stdout",
          "text": [
            "A\n",
            "1\n",
            "B\n",
            "2\n"
          ]
        }
      ]
    },
    {
      "cell_type": "markdown",
      "source": [
        "## 반복문의 필요성"
      ],
      "metadata": {
        "id": "6JZAx7DlAfbK"
      }
    },
    {
      "cell_type": "code",
      "source": [
        "product_name = [\"요구르트\", \"우유\",\"과자\"]\n",
        "prices = [1000, 1500, 2000]\n",
        "quantities = [5, 3, 4]\n",
        "\n",
        "name = product_name[0]\n",
        "sales = prices[0] * quantities[0]\n",
        "print(name + \"의 매출액은\" + str(sales) + \"원\")\n",
        "\n",
        "#반복문\n",
        "for i in [0, 1, 2]:\n",
        "  name = product_name[i]\n",
        "sales = prices[i] * quantities[i]\n",
        "print(name + \"의 매출액은\" + str(sales) + \"원\")\n",
        "\n",
        "#for i in range(len(product_name)) : #개수를 모를 때"
      ],
      "metadata": {
        "id": "cE3jrkUtAhva",
        "colab": {
          "base_uri": "https://localhost:8080/"
        },
        "outputId": "c2614f33-99c0-4665-870f-b48e2f229b44"
      },
      "execution_count": null,
      "outputs": [
        {
          "output_type": "stream",
          "name": "stdout",
          "text": [
            "요구르트의 매출액은5000원\n",
            "과자의 매출액은8000원\n"
          ]
        }
      ]
    },
    {
      "cell_type": "markdown",
      "source": [
        "## while\n",
        "- 조건식이 들어간 반복문(조건이 만족될 때 까지 반복).vs for문(for-loop, 범위가 중요)"
      ],
      "metadata": {
        "id": "TqsRmWrdJpmo"
      }
    },
    {
      "cell_type": "code",
      "source": [
        "count = 1\n",
        "while count <= 5:\n",
        "  print(\"안녕하세요..\")\n",
        "  count = count + 1\n",
        "  print(count)\n",
        "\n",
        "  print(\"5를 초과 했군요\")"
      ],
      "metadata": {
        "id": "SyFa4yLIJ4-H",
        "colab": {
          "base_uri": "https://localhost:8080/"
        },
        "outputId": "5ea63dd7-e472-4d73-c4bc-1c44b15808dd"
      },
      "execution_count": null,
      "outputs": [
        {
          "output_type": "stream",
          "name": "stdout",
          "text": [
            "안녕하세요..\n",
            "2\n",
            "5를 초과 했군요\n",
            "안녕하세요..\n",
            "3\n",
            "5를 초과 했군요\n",
            "안녕하세요..\n",
            "4\n",
            "5를 초과 했군요\n",
            "안녕하세요..\n",
            "5\n",
            "5를 초과 했군요\n",
            "안녕하세요..\n",
            "6\n",
            "5를 초과 했군요\n"
          ]
        }
      ]
    },
    {
      "cell_type": "code",
      "source": [
        "count = 3\n",
        "while count > 0:\n",
        "  print(\"안녕하세요..\")\n",
        "  count = count - 1\n",
        "  print(count)\n",
        "\n",
        "  print(\"0미만 이군요..\")"
      ],
      "metadata": {
        "id": "L1zoHlYoMIgk",
        "colab": {
          "base_uri": "https://localhost:8080/"
        },
        "outputId": "0716b16e-5cee-493e-8025-7d33385a83c4"
      },
      "execution_count": null,
      "outputs": [
        {
          "output_type": "stream",
          "name": "stdout",
          "text": [
            "안녕하세요..\n",
            "2\n",
            "0미만 이군요..\n",
            "안녕하세요..\n",
            "1\n",
            "0미만 이군요..\n",
            "안녕하세요..\n",
            "0\n",
            "0미만 이군요..\n"
          ]
        }
      ]
    },
    {
      "cell_type": "markdown",
      "source": [
        "- 개발자를 지향한다(while문에 더 비중있게 공부)\n",
        "- 데이터분석가를 지향한다(for-loop를 더 비중있게)"
      ],
      "metadata": {
        "id": "a1gSFTvTMJ7V"
      }
    },
    {
      "cell_type": "markdown",
      "source": [
        "# 사용자 정의 함수 (User-Defined Function)\n",
        "- why?\n",
        "\n",
        "#클래스 (class)를 왜 쓸까?\n",
        "- 코드의 반복성을 줄이기 위해 사용\n",
        "\n",
        "# len() --> 누군가 만들었고, 우리는 그걸 그냥 쓰는 거임\n",
        "- 리스트의 길이 구할 때 씀\n",
        "- 리스트의 전체 길이를 구하겠다? --> 1회성인가? 나만 쓰는가? (no)\n"
      ],
      "metadata": {
        "id": "Muj4bNQ8MvSQ"
      }
    },
    {
      "cell_type": "code",
      "source": [
        "def 함수명():\n",
        "  # 코드 실행됨\n",
        "  return 값\n",
        "\n",
        "  함수명()"
      ],
      "metadata": {
        "id": "0D-LXgtBN8Ph"
      },
      "execution_count": null,
      "outputs": []
    },
    {
      "cell_type": "code",
      "source": [
        "def add(a, b): #add = a값과 b값을 넣어준다\n",
        "  c = a * b\n",
        "  return c\n",
        "add(1, 2)"
      ],
      "metadata": {
        "id": "cNBrt7G0ONUt",
        "colab": {
          "base_uri": "https://localhost:8080/"
        },
        "outputId": "b85d92cf-cc29-46e8-9285-24c3a024373e"
      },
      "execution_count": null,
      "outputs": [
        {
          "output_type": "execute_result",
          "data": {
            "text/plain": [
              "2"
            ]
          },
          "metadata": {},
          "execution_count": 29
        }
      ]
    },
    {
      "cell_type": "markdown",
      "source": [
        "jupyter notebook, .ipynb  파일명\n",
        "\n",
        ".py 로 저장 (Pycharm)"
      ],
      "metadata": {
        "id": "ki5NBW-tQAJC"
      }
    },
    {
      "cell_type": "markdown",
      "source": [
        "# 파이썬 함수 주석 처리"
      ],
      "metadata": {
        "id": "cjQ3y_jMRSRn"
      }
    },
    {
      "cell_type": "code",
      "source": [
        "# /usr/local/bin/python\n",
        "# -*- coding: utf-8 -*-\n",
        "\n",
        "def add(a, b):\n",
        "  c = a + b\n",
        "  return c\n",
        "\n",
        "if __name__ == \"__main__\":\n",
        "  a = 1\n",
        "  b = 2\n",
        "  c = add(a, b)\n",
        "  print(c)"
      ],
      "metadata": {
        "colab": {
          "base_uri": "https://localhost:8080/"
        },
        "id": "lSO6pu3WQYOR",
        "outputId": "613cbedd-31e1-40f8-9b8b-bb983e74ed1e"
      },
      "execution_count": null,
      "outputs": [
        {
          "output_type": "stream",
          "name": "stdout",
          "text": [
            "3\n"
          ]
        }
      ]
    },
    {
      "cell_type": "code",
      "source": [
        "\n",
        "def temp(content, letter):\n",
        "  \"\"\"content안에 있는 문자를 세는 함수입니다.\n",
        "  \n",
        "  Args:\n",
        "    content(str) : 탐색 문자열\n",
        "    letter(str) : 찾을 문자열\n",
        "  \n",
        "  Returns:\n",
        "    int\n",
        "  \"\"\"\n",
        "  print(\"함수 테스트\")\n",
        "\n",
        "  cnt = len([char for char in content if char == letter])\n",
        "  return cnt\n",
        "\n",
        "if __name__ == \"__main__\":\n",
        "  # help(temp)\n",
        "  docstring = temp.__doc__\n",
        "  print(docstring)"
      ],
      "metadata": {
        "colab": {
          "base_uri": "https://localhost:8080/"
        },
        "id": "1oSGN4neSV12",
        "outputId": "a79f955e-05f4-490d-e99d-557c27f78f93"
      },
      "execution_count": null,
      "outputs": [
        {
          "output_type": "stream",
          "name": "stdout",
          "text": [
            "content안에 있는 문자를 세는 함수입니다.\n",
            "  \n",
            "  Args:\n",
            "    content(str) : 탐색 문자열\n",
            "    letter(str) : 찾을 문자열\n",
            "  \n",
            "  Returns:\n",
            "    int\n",
            "  \n"
          ]
        }
      ]
    },
    {
      "cell_type": "markdown",
      "source": [
        "## 리스트 컴프리헨션\n",
        " - for-loop 반복문을 한줄로 처리"
      ],
      "metadata": {
        "id": "zNlq_nFPXd3M"
      }
    },
    {
      "cell_type": "code",
      "source": [
        "my_list = [[10], [20, 30]]\n",
        "#print(my_list)\n",
        "\n",
        "flattened_list = []\n",
        "for value_list in my_list:\n",
        "   #print(value_list)\n",
        "  for value in value_list:\n",
        "    print(value)\n",
        "    flattened_list.append(value)\n",
        "\n",
        "print(flattened_list)\n",
        "# 결과값 : [10, 20, 30]"
      ],
      "metadata": {
        "colab": {
          "base_uri": "https://localhost:8080/"
        },
        "id": "rCTRFtqlXqo7",
        "outputId": "afb8ffbf-0568-4c53-db54-9509146ba334"
      },
      "execution_count": null,
      "outputs": [
        {
          "output_type": "stream",
          "name": "stdout",
          "text": [
            "10\n",
            "20\n",
            "30\n",
            "[10, 20, 30]\n"
          ]
        }
      ]
    },
    {
      "cell_type": "code",
      "source": [
        "my_list = [[10], [20, 30]]\n",
        "flattened_list = [value for value_list in my_list for value in value_list]\n",
        "print(flattened_list)"
      ],
      "metadata": {
        "colab": {
          "base_uri": "https://localhost:8080/"
        },
        "id": "GYJfA7iGYnt0",
        "outputId": "4f023097-5ba5-4aa3-f06c-275bf0b0aa5b"
      },
      "execution_count": null,
      "outputs": [
        {
          "output_type": "stream",
          "name": "stdout",
          "text": [
            "[10, 20, 30]\n"
          ]
        }
      ]
    },
    {
      "cell_type": "code",
      "source": [
        "letters = []\n",
        "for char in \"helloworld\":\n",
        "  letters.append(char)\n",
        "print(letters)"
      ],
      "metadata": {
        "colab": {
          "base_uri": "https://localhost:8080/"
        },
        "id": "qhVGdi7hZKJk",
        "outputId": "422120de-5ed4-4c5b-89dc-ad67732e18f5"
      },
      "execution_count": null,
      "outputs": [
        {
          "output_type": "stream",
          "name": "stdout",
          "text": [
            "['h', 'e', 'l', 'l', 'o', 'w', 'o', 'r', 'l', 'd']\n"
          ]
        }
      ]
    },
    {
      "cell_type": "code",
      "source": [
        "letters2 = [char for char in \"helloworld\"]\n",
        "print(letters2)"
      ],
      "metadata": {
        "colab": {
          "base_uri": "https://localhost:8080/"
        },
        "id": "o44V5BFwZg5x",
        "outputId": "9ef5c567-52af-4268-b205-2280699b64eb"
      },
      "execution_count": null,
      "outputs": [
        {
          "output_type": "stream",
          "name": "stdout",
          "text": [
            "['h', 'e', 'l', 'l', 'o', 'w', 'o', 'r', 'l', 'd']\n"
          ]
        }
      ]
    },
    {
      "cell_type": "code",
      "source": [
        "value_list = [1, 2, 3, 4, 5]\n",
        "print(\"avg:\", sum(value_list) / len(value_list)) #평균\n",
        "\n",
        "midpoint = int(len(value_list) / 2)\n",
        "print(midpoint) #중간값\n",
        "\n",
        "# len(value_list) % 2 == 0:\n",
        "print((value_list[mid_point - 1] + value_list[midpoint]) / 2)\n",
        "print(value_list[midpoint])\n",
        "\n",
        "def mean_and_median(value_list):\n",
        "  \"\"\"숫자 리스트의 요소들의 평균과 중간값을 구하는 코드를 작성해라\n",
        "  Args:\n",
        "    value_list (iterable of int / float): A list of int numbers \n",
        "  \n",
        "  Returns:\n",
        "    tuple(float, float)\n",
        "  \"\"\"\n",
        "  \n",
        "  # 평균\n",
        "  mean = sum(value_list) / len(value_list)\n",
        "\n",
        "  # 중간값\n",
        "  midpoint = int(len(value_list) / 2)\n",
        "  if len(value_list) % 2 == 0:\n",
        "    median = (value_list[midpoint - 1] + value_list[midpoint]) / 2\n",
        "  else:\n",
        "    median = value_list[midpoint]\n",
        "\n",
        "  return mean, median\n",
        "\n",
        "if __name__ == \"__main__\": # 이 코드가 있어야 git bash 창에서 확인할 수 있음\n",
        "  value_list = [1, 1, 2, 2, 3, 4, 5]\n",
        "  avg, median = mean_and_median(value_list)\n",
        "  print(\"avg:\", avg)\n",
        "  print(\"median\", median)"
      ],
      "metadata": {
        "colab": {
          "base_uri": "https://localhost:8080/",
          "height": 288
        },
        "id": "o21lGbTqaZO9",
        "outputId": "8da98bc9-3fe1-431e-8346-61382c6c5823"
      },
      "execution_count": null,
      "outputs": [
        {
          "output_type": "stream",
          "name": "stdout",
          "text": [
            "avg: 3.0\n",
            "2\n"
          ]
        },
        {
          "output_type": "error",
          "ename": "NameError",
          "evalue": "ignored",
          "traceback": [
            "\u001b[0;31m---------------------------------------------------------------------------\u001b[0m",
            "\u001b[0;31mNameError\u001b[0m                                 Traceback (most recent call last)",
            "\u001b[0;32m<ipython-input-84-934d9849f4d8>\u001b[0m in \u001b[0;36m<module>\u001b[0;34m()\u001b[0m\n\u001b[1;32m      6\u001b[0m \u001b[0;34m\u001b[0m\u001b[0m\n\u001b[1;32m      7\u001b[0m \u001b[0;31m# len(value_list) % 2 == 0:\u001b[0m\u001b[0;34m\u001b[0m\u001b[0;34m\u001b[0m\u001b[0;34m\u001b[0m\u001b[0m\n\u001b[0;32m----> 8\u001b[0;31m \u001b[0mprint\u001b[0m\u001b[0;34m(\u001b[0m\u001b[0;34m(\u001b[0m\u001b[0mvalue_list\u001b[0m\u001b[0;34m[\u001b[0m\u001b[0mmid_point\u001b[0m \u001b[0;34m-\u001b[0m \u001b[0;36m1\u001b[0m\u001b[0;34m]\u001b[0m \u001b[0;34m+\u001b[0m \u001b[0mvalue_list\u001b[0m\u001b[0;34m[\u001b[0m\u001b[0mmidpoint\u001b[0m\u001b[0;34m]\u001b[0m\u001b[0;34m)\u001b[0m \u001b[0;34m/\u001b[0m \u001b[0;36m2\u001b[0m\u001b[0;34m)\u001b[0m\u001b[0;34m\u001b[0m\u001b[0;34m\u001b[0m\u001b[0m\n\u001b[0m\u001b[1;32m      9\u001b[0m \u001b[0mprint\u001b[0m\u001b[0;34m(\u001b[0m\u001b[0mvalue_list\u001b[0m\u001b[0;34m[\u001b[0m\u001b[0mmidpoint\u001b[0m\u001b[0;34m]\u001b[0m\u001b[0;34m)\u001b[0m\u001b[0;34m\u001b[0m\u001b[0;34m\u001b[0m\u001b[0m\n\u001b[1;32m     10\u001b[0m \u001b[0;34m\u001b[0m\u001b[0m\n",
            "\u001b[0;31mNameError\u001b[0m: name 'mid_point' is not defined"
          ]
        }
      ]
    },
    {
      "cell_type": "code",
      "source": [
        "def mean_and_median(value_list):\n",
        "  \"\"\"숫자 리스트의 요소들의 평균과 중간값을 구하는 코드를 작성해라\n",
        "  Args:\n",
        "    value_list (iterable of int / float): A list of int numbers \n",
        "  \n",
        "  Returns:\n",
        "    tuple(float, float)\n",
        "  \"\"\"\n",
        "  \n",
        "  # 평균\n",
        "  mean = sum(value_list) / len(value_list)\n",
        "\n",
        "  # 중간값\n",
        "  midpoint = int(len(value_list) / 2)\n",
        "  if len(value_list) % 2 == 0:\n",
        "    median = (value_list[midpoint - 1] + value_list[midpoint]) / 2\n",
        "  else:\n",
        "    median = value_list[midpoint]\n",
        "\n",
        "  return mean, median\n",
        "\n",
        "if __name__ == \"__main__\":\n",
        "  value_list = [1, 1, 2, 2, 3, 4, 5]\n",
        "  avg, median = mean_and_median(value_list)\n",
        "  print(\"avg:\", avg)\n",
        "  print(\"median\", median)"
      ],
      "metadata": {
        "colab": {
          "base_uri": "https://localhost:8080/"
        },
        "id": "UyKvouHNdvrM",
        "outputId": "d784c471-2005-44e7-8da6-62377da79995"
      },
      "execution_count": null,
      "outputs": [
        {
          "output_type": "stream",
          "name": "stdout",
          "text": [
            "avg: 2.5714285714285716\n",
            "median 2\n"
          ]
        }
      ]
    },
    {
      "cell_type": "markdown",
      "source": [
        "- 데코레이터, 변수명 immutable or mutable, context manager"
      ],
      "metadata": {
        "id": "iu24wqU5sYs5"
      }
    }
  ]
}