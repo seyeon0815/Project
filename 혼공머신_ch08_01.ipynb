{
  "nbformat": 4,
  "nbformat_minor": 0,
  "metadata": {
    "colab": {
      "name": "혼공머신_ch08_01.ipynb",
      "provenance": [],
      "authorship_tag": "ABX9TyN9yC7veZzh1dV9VtOrnH6/",
      "include_colab_link": true
    },
    "kernelspec": {
      "name": "python3",
      "display_name": "Python 3"
    },
    "language_info": {
      "name": "python"
    }
  },
  "cells": [
    {
      "cell_type": "markdown",
      "metadata": {
        "id": "view-in-github",
        "colab_type": "text"
      },
      "source": [
        "<a href=\"https://colab.research.google.com/github/seyeon0815/Project/blob/main/%ED%98%BC%EA%B3%B5%EB%A8%B8%EC%8B%A0_ch08_01.ipynb\" target=\"_parent\"><img src=\"https://colab.research.google.com/assets/colab-badge.svg\" alt=\"Open In Colab\"/></a>"
      ]
    },
    {
      "cell_type": "markdown",
      "source": [
        "# 합성곱 신경망\n",
        "- 로지스틱 회귀(일반 머신러닝 모형): 81%\n",
        "- 인공신경망 (딥러닝 초기 모형) : 87%\n",
        "- 합성곱(Convolution, CNN(neural network) : 이미지의 특성을 뽑는 과정\n",
        "- 데이터 전체에 가중치를 곱하는 것이 아니라 일부에 가중치를 곱함\n",
        " + 발전사: alexnet(2012) -> resnet -> efficientnet\n",
        " + 채널, 이미지의 너비, 크기(파라미터 튜닝)\n",
        " +Vision Transformer\n",
        "\n",
        "- 비디오\n",
        " + 객체인식(object detection)\n",
        " + yolo 논문\n",
        "\n",
        "- RNN/ LSTM (자연어 처리)\n",
        " + 구글 2017년 Transformer (논문)\n",
        "\n",
        "- 코드보다 용어정리!"
      ],
      "metadata": {
        "id": "dB39dqmvRQyn"
      }
    },
    {
      "cell_type": "markdown",
      "source": [
        "# 합성곱의 장점\n",
        "- 2차원 배열에도 연산을 할 수 있도록 구현(기존: 1차원 배열에서만 연산가능)\n",
        " \n"
      ],
      "metadata": {
        "id": "FdlSmi3ic4PE"
      }
    },
    {
      "cell_type": "markdown",
      "source": [
        "# 용어 정리\n",
        "- CNN:컨볼루션을 이용한 인공 신경망 모델\n",
        " + 다차원 배열 데이터 처리에 특화된 모델로 데이터의 공간적 정보를 유지하면서 배열 데이터 정보를 다음 레이어로 보낼 수 있어서 이미지(RGB 채널의 3차원 배열) 분야에서 적극 활용\n",
        "\n",
        "- 필터(=뉴런): 필터 많을 수록 많은 이미지 특성 추출\n",
        "- 커널: 가중치\n",
        "- 특성맵(feature map): 합성곱 계산을 통해 얻은 출력\n",
        " + 여러개의 필터/다른 가중치 사용 가능\n",
        "\n",
        "- 패딩 (Padding): 이미지 테두리에 일정 값(0 또는 1)을 넣어주는 작업 -> 이미지 크기가 무한정 작아지는 것을 막기 위해(연산할 수 있는 픽셀이 없어 더 이상 훈련할 수 없게 되는 상황 방지)\n",
        "\n",
        "- 스트라이드: 이미지에 필터를 적용하는 간격.스트라이드 값 커지면 이동 간격이 넓어져 출력 데이터의 크기가 작아짐 \n",
        "\n",
        " 패딩과 다르게 스트라이드는 출력데이터의 크기를 축소시키는 역할\n",
        "\n",
        "- Convolutional layers :특징 추출, 컨볼루션 연산을 진행할수록 이미지 크기는 작아지고 채널 수(필터 수)는 증가한다\n",
        "\n",
        "- Pooling layer: Convolutional layer 바로 다음에 위치해 공간(spatial size)을 축소해줌 (이때 width, height의 크기만 줄어들고 채널의 크기는 고정,입력 데이터의 크기가 축소되고 학습하지 않기 때문에 파라미터 수가 줄어들어 과대적합 방지\n",
        " + 맥스 풀링(Max Pooing) : 대상 이미지 영역에서 최대값을 구함 \n",
        " + 평균 풀링(Average Pooling) : 대상 이미지 영역에서 평균값을 구함\n",
        "\n",
        "- Fully-Connected layer: CNN 마지막에서 분류(Classification)를 결정\n",
        " + flatten : 각 레이어를 1차원 벡터로 변환\n",
        " + fully-conneced layer : 1차원 벡터로 변환된 레이어를 하나의 벡터로 연결 (각 층의 노드들은 하나로 연결)\n",
        "\n",
        "- Softmax 함수를 이용해 가장 확률이 높은 class를 output으로 분류"
      ],
      "metadata": {
        "id": "Gev-tQrlpJt3"
      }
    },
    {
      "cell_type": "code",
      "source": [
        "from tensorflow import keras\n",
        "keras.layers.Conv2D(10, kernel_size = (3,3), #Conv2D: 왼쪽에서 오른쪽,위애서 아래로 이동하는 합성곱\n",
        "                  activation = 'relu', strides = 1) #strides = 한칸씩 이동\n",
        "# (4,4) 크기의 입력에 (3,3) 크기의 커널을 적용해 (2,2)크기의 특성맵을 만들기"
      ],
      "metadata": {
        "colab": {
          "base_uri": "https://localhost:8080/"
        },
        "id": "XwemM0esiAse",
        "outputId": "ad696b59-f57a-4ce3-cadb-ed9b0dfdb065"
      },
      "execution_count": 6,
      "outputs": [
        {
          "output_type": "execute_result",
          "data": {
            "text/plain": [
              "<keras.layers.convolutional.Conv2D at 0x7f4628ef6150>"
            ]
          },
          "metadata": {},
          "execution_count": 6
        }
      ]
    },
    {
      "cell_type": "markdown",
      "source": [
        "# 패딩\n",
        "- padding 함수(입력 배열 주위를 가상의 원소로 채워줌)로 (4,4) 크기의 입력을 (6,6)으로 다루어 (3,3)크기의 커널로 합성곱을 하면 출력의 크기 (4,4)가 됨,실제값은 0으로 채워져 있어 계산에 영향x\n",
        " + same padding : 입력과 특성맵의 크기를 동일하게 만들기 위해 입력 주위에 0으로 패딩하는 것\n",
        " + valid padding: 패딩 없이 입력배열에서만 합성곱을 해 특성맵을 만드는 것(특성 맵의 크기가 줄어들 수 밖에 없음)\n",
        "- 적절한 padding은 이미지 주변에 있는 정보를 잃어버리지 않도록 도와줌"
      ],
      "metadata": {
        "id": "yk46hYSk7BlV"
      }
    },
    {
      "cell_type": "code",
      "source": [
        "keras.layers.Conv2D(10, kernel_size=(3,3), activation='relu', padding='same')"
      ],
      "metadata": {
        "colab": {
          "base_uri": "https://localhost:8080/"
        },
        "id": "niQsJr3I7Iry",
        "outputId": "a5d57423-256b-403c-9eda-0be893891112"
      },
      "execution_count": 7,
      "outputs": [
        {
          "output_type": "execute_result",
          "data": {
            "text/plain": [
              "<keras.layers.convolutional.Conv2D at 0x7f4628595810>"
            ]
          },
          "metadata": {},
          "execution_count": 7
        }
      ]
    },
    {
      "cell_type": "markdown",
      "source": [
        "## 풀링\n",
        "- 값을 추출\n",
        " + 원래 이미지 크기 100x100 -> 수치로 주요 이미지의 특성만 뽑은 후 원 이미지와 같게 만듬 (50x50) = 본뜬다\n",
        "\n",
        "- 합성곱에서는 커널이 한칸씩 이동해 겹치는 부분이 있었지만, 풀링에서는 겹치지 않고 이동 (4,4)입력 - (2,2)풀링시 두 칸 이동해 4개 출력층 생김, 각 출력층에서 큰값 출력\n",
        "- 특성맵의 개수는 변하지 않고 가로 세로 크기만 줄어든다!"
      ],
      "metadata": {
        "id": "JPm5G2LVjAkp"
      }
    },
    {
      "cell_type": "code",
      "source": [
        "keras.layers.MaxPooling2D(2)\n",
        "# 평균풀링은 AveragePooling2D : 특성맵에 있는 중요한 정보를 평균해 희석시킬 수 있기 때문에 최대풀링을 많이 사용"
      ],
      "metadata": {
        "colab": {
          "base_uri": "https://localhost:8080/"
        },
        "id": "P6rP_9k_9LUh",
        "outputId": "3ff7c244-8030-40ba-cc90-9c1395148c3a"
      },
      "execution_count": 8,
      "outputs": [
        {
          "output_type": "execute_result",
          "data": {
            "text/plain": [
              "<keras.layers.pooling.MaxPooling2D at 0x7f4628fdb0d0>"
            ]
          },
          "metadata": {},
          "execution_count": 8
        }
      ]
    },
    {
      "cell_type": "markdown",
      "source": [
        "p.437\n",
        "- 1단계: 이미지 데이터 입력\n",
        "- 2단계: 합성곱 층\n",
        " + (1) kernel_size + padding\n",
        " + (2) 활성화 함수 적용\n",
        " + (3) 각각의 특성맵을 산출\n",
        "- 3단계: 풀링층\n",
        " + (1) Max Pooling : 최댓값 추출\n",
        " + (2) 최종 특성맵\n",
        "- 위 과정(CNN->Max Pooling)을 계속 반복하는 것이 CNN 알고리즘\n",
        "- 4단계 : 밀집층(fully connected Layer) : 분류\n",
        " + chapter 7장 참고\n",
        "- 5단계 : 분류 예측값을 산출(Softmax 활성화 함수)\n",
        "\n",
        "주요 키워드: 전이학습(Transfer Learning) / 파인튜닝"
      ],
      "metadata": {
        "id": "YSVUoQl0nkpZ"
      }
    }
  ]
}